{
 "cells": [
  {
   "attachments": {},
   "cell_type": "markdown",
   "metadata": {},
   "source": [
    "# Julia project"
   ]
  },
  {
   "cell_type": "code",
   "execution_count": 1,
   "metadata": {},
   "outputs": [],
   "source": [
    "using NPZ\n",
    "using Gen\n",
    "using Plots\n",
    "using LinearAlgebra"
   ]
  },
  {
   "cell_type": "code",
   "execution_count": 2,
   "metadata": {},
   "outputs": [
    {
     "data": {
      "text/plain": [
       "10×10 Matrix{Float64}:\n",
       "  8.0  6.0   8.0  0.0   4.0   6.0   6.0   6.0   0.0  6.0\n",
       "  0.0  8.0  10.0  6.0  10.0   8.0   8.0   6.0   0.0  6.0\n",
       "  0.0  6.0  10.0  0.0   6.0   6.0   8.0   6.0   0.0  8.0\n",
       "  5.0  5.0   4.0  0.0   4.0   8.0   4.0   0.0   0.0  9.0\n",
       "  8.0  6.0   6.0  0.0   6.0   6.0   6.0   0.0   0.0  6.0\n",
       "  6.0  5.0   3.0  0.0   0.0   9.0   5.0   0.0   3.0  7.0\n",
       " 10.0  0.0   6.0  0.0   6.0   6.0   6.0   0.0   6.0  0.0\n",
       " 10.0  8.0   0.0  0.0   6.0   8.0   0.0   0.0   6.0  6.0\n",
       " 10.0  0.0  10.0  0.0  10.0   0.0  10.0  10.0   0.0  8.0\n",
       "  8.0  0.0   8.0  0.0   8.0  10.0   6.0   0.0  10.0  0.0"
      ]
     },
     "metadata": {},
     "output_type": "display_data"
    }
   ],
   "source": [
    "xs = npzread(\"Z:/Master I/PP    - Probabilistic Programming/Project/input/input_10x10.npy\")"
   ]
  },
  {
   "attachments": {},
   "cell_type": "markdown",
   "metadata": {},
   "source": [
    "## Hierarchical Poisson Factorization"
   ]
  },
  {
   "cell_type": "code",
   "execution_count": 3,
   "metadata": {},
   "outputs": [
    {
     "data": {
      "text/plain": [
       "DynamicDSLFunction{Any}(Dict{Symbol, Any}(), Dict{Symbol, Any}(), Type[Int64, Int64, Int64, Float64, Float64, Float64, Float64, Float64, Float64], false, Union{Nothing, Some{Any}}[nothing, nothing, nothing, nothing, nothing, nothing, nothing, nothing, nothing], var\"##hpf_model#313\", Bool[0, 0, 0, 0, 0, 0, 0, 0, 0], false)"
      ]
     },
     "metadata": {},
     "output_type": "display_data"
    }
   ],
   "source": [
    "@gen function hpf_model(num_users::Int64,\n",
    "                        num_items::Int64,\n",
    "                        k::Int64,\n",
    "                        a::Float64, c::Float64,\n",
    "                        a_prim::Float64, b_prim::Float64, c_prim::Float64, d_prim::Float64)\n",
    "    \n",
    "    # for each user u\n",
    "    X_preference = Vector[] # asta i theta care trebuie resimulat practic \n",
    "    for u = 1:num_users\n",
    "        activity = ({(:activity,u)} ~ gamma(a_prim,a_prim/b_prim))\n",
    "        preference = Float64[]\n",
    "        for _k = 1:k  # for each component k ( k is like a random number of categories)\n",
    "            push!(preference,{(:preference,u, _k)} ~ gamma(a,activity))\n",
    "        end\n",
    "        push!(X_preference,preference)\n",
    "    end\n",
    "\n",
    "    # for each item i \n",
    "    X_sample_attribute = Vector[] # asta i beta care trebuie resimulat\n",
    "    for i = 1:num_items\n",
    "        popularity = ({(:popularity,i)} ~ gamma(c_prim,c_prim/d_prim))\n",
    "        attribute = Float64[]\n",
    "        for _k = 1:k # for each component k ( k is like a random number of categories)\n",
    "            push!(attribute,{(:attribute, i, _k)} ~ gamma(c,popularity))\n",
    "        end\n",
    "        push!(X_sample_attribute, attribute)\n",
    "    end\n",
    "    \n",
    "    # for each user u and item i\n",
    "    y = Matrix{Float64}(undef,0,num_items)\n",
    "    for u = 1:num_users\n",
    "        rating = Float64[]\n",
    "        for i = 1:num_items\n",
    "            push!(rating,{(:rating, u, i)} ~ poisson(dot(X_preference[u],X_sample_attribute[i])))\n",
    "        end\n",
    "        y = vcat(y, rating')\n",
    "    end\n",
    "    \n",
    "    y\n",
    "end"
   ]
  },
  {
   "cell_type": "markdown",
   "metadata": {},
   "source": [
    "### Test to see if it generates a matrix with ratings"
   ]
  },
  {
   "cell_type": "code",
   "execution_count": 4,
   "metadata": {},
   "outputs": [
    {
     "data": {
      "text/plain": [
       "10×10 Matrix{Float64}:\n",
       " 0.0  0.0  0.0  0.0  0.0  0.0  0.0  0.0   0.0  0.0\n",
       " 0.0  0.0  0.0  0.0  0.0  0.0  0.0  0.0   0.0  0.0\n",
       " 0.0  0.0  0.0  0.0  0.0  0.0  0.0  0.0   0.0  0.0\n",
       " 0.0  0.0  0.0  0.0  0.0  0.0  0.0  0.0   0.0  0.0\n",
       " 0.0  0.0  0.0  0.0  0.0  0.0  0.0  0.0  23.0  0.0\n",
       " 0.0  0.0  0.0  0.0  0.0  0.0  0.0  0.0   0.0  0.0\n",
       " 0.0  0.0  0.0  0.0  0.0  0.0  0.0  0.0   0.0  0.0\n",
       " 0.0  0.0  0.0  0.0  0.0  0.0  0.0  0.0   0.0  0.0\n",
       " 0.0  0.0  0.0  0.0  0.0  0.0  0.0  0.0   0.0  0.0\n",
       " 0.0  0.0  0.0  0.0  0.0  0.0  0.0  0.0   0.0  0.0"
      ]
     },
     "metadata": {},
     "output_type": "display_data"
    }
   ],
   "source": [
    "num_users = 10\n",
    "num_items = 10\n",
    "k = 10 # pentru primele 10 filme sunt 10 categorii\n",
    "a, c, a_prim, b_prim, c_prim, d_prim = [0.3 for _ = 1:6];\n",
    "y = hpf_model(num_users, num_items, k, a, c, a_prim, b_prim, c_prim, d_prim );\n",
    "y"
   ]
  },
  {
   "cell_type": "code",
   "execution_count": 5,
   "metadata": {},
   "outputs": [
    {
     "data": {
      "text/plain": [
       "Gen.DynamicDSLTrace{DynamicDSLFunction{Any}}(DynamicDSLFunction{Any}(Dict{Symbol, Any}(), Dict{Symbol, Any}(), Type[Int64, Int64, Int64, Float64, Float64, Float64, Float64, Float64, Float64], false, Union{Nothing, Some{Any}}[nothing, nothing, nothing, nothing, nothing, nothing, nothing, nothing, nothing], var\"##hpf_model#313\", Bool[0, 0, 0, 0, 0, 0, 0, 0, 0], false), Trie{Any, Gen.ChoiceOrCallRecord}(Dict{Any, Gen.ChoiceOrCallRecord}((:rating, 6, 10) => Gen.ChoiceOrCallRecord{Int64}(0, -0.0002339270194919225, NaN, true), (:preference, 9, 9) => Gen.ChoiceOrCallRecord{Float64}(0.05758278885700929, 1.0115939047703972, NaN, true), (:rating, 9, 5) => Gen.ChoiceOrCallRecord{Int64}(0, -0.00014007203600753518, NaN, true), (:attribute, 4, 3) => Gen.ChoiceOrCallRecord{Float64}(0.001294617894415501, 4.725567062283881, NaN, true), (:rating, 6, 4) => Gen.ChoiceOrCallRecord{Int64}(0, -0.0006105420200919684, NaN, true), (:attribute, 4, 10) => Gen.ChoiceOrCallRecord{Float64}(0.013716732634152951, 2.27135438849471, NaN, true), (:rating, 3, 10) => Gen.ChoiceOrCallRecord{Int64}(0, -4.5968996003257135e-5, NaN, true), (:rating, 4, 6) => Gen.ChoiceOrCallRecord{Int64}(0, -0.012450381154366705, NaN, true), (:attribute, 8, 2) => Gen.ChoiceOrCallRecord{Float64}(0.14469298624991886, 0.17332677904583726, NaN, true), (:activity, 6) => Gen.ChoiceOrCallRecord{Float64}(0.10001121092218072, 0.41592188729894897, NaN, true)…), Dict{Any, Trie{Any, Gen.ChoiceOrCallRecord}}()), false, 736.2367277207296, 0.0, (10, 10, 10, 0.3, 0.3, 0.3, 0.3, 0.3, 0.3), [0.0 0.0 … 1.0 0.0; 0.0 1.0 … 0.0 0.0; … ; 0.0 1.0 … 0.0 0.0; 0.0 0.0 … 0.0 0.0])"
      ]
     },
     "metadata": {},
     "output_type": "display_data"
    }
   ],
   "source": [
    "trace = Gen.simulate(hpf_model, (num_users, num_items, k, a, c, a_prim, b_prim, c_prim, d_prim,))"
   ]
  },
  {
   "cell_type": "markdown",
   "metadata": {},
   "source": [
    "### See if trace is corectly created"
   ]
  },
  {
   "cell_type": "code",
   "execution_count": 44,
   "metadata": {},
   "outputs": [
    {
     "data": {
      "text/plain": [
       "│\n",
       "├── (:rating, 6, 10) : 0\n",
       "│\n",
       "├── (:preference, 9, 9) : 0.4866740340294369\n",
       "│\n",
       "├── (:rating, 9, 5) : 0\n",
       "│\n",
       "├── (:attribute, 4, 3) : 0.3656949394884153\n",
       "│\n",
       "├── (:rating, 6, 4) : 0\n",
       "│\n",
       "├── (:attribute, 4, 10) : 0.01029092583548561\n",
       "│\n",
       "├── (:rating, 3, 10) : 0\n",
       "│\n",
       "├── (:rating, 4, 6) : 0\n",
       "│\n",
       "├── (:attribute, 8, 2) : 0.012665188145778942\n",
       "│\n",
       "├── (:activity, 6) : 0.07390284258122365\n",
       "│\n",
       "├── (:preference, 5, 5) : 0.012104156632052549\n",
       "│\n",
       "├── (:rating, 7, 1) : 0\n",
       "│\n",
       "├── (:rating, 3, 4) : 0\n",
       "│\n",
       "├── (:activity, 4) : 1.4104443881057465\n",
       "│\n",
       "├── (:rating, 7, 8) : 0\n",
       "│\n",
       "├── (:activity, 7) : 0.014351758031160936\n",
       "│\n",
       "├── (:preference, 8, 6) : 0.0005545263503797618\n",
       "│\n",
       "├── (:rating, 10, 7) : 0\n",
       "│\n",
       "├── (:rating, 2, 2) : 0\n",
       "│\n",
       "├── (:attribute, 7, 5) : 0.00024673750171484894\n",
       "│\n",
       "├── (:popularity, 10) : 0.1750755341133708\n",
       "│\n",
       "├── (:rating, 7, 2) : 0\n",
       "│\n",
       "├── (:attribute, 4, 4) : 0.11291890066067706\n",
       "│\n",
       "├── (:preference, 5, 6) : 6.495897080477486e-5\n",
       "│\n",
       "├── (:rating, 3, 9) : 0\n",
       "│\n",
       "├── (:preference, 1, 6) : 0.0014740892635608867\n",
       "│\n",
       "├── (:attribute, 3, 10) : 3.369406397512627e-5\n",
       "│\n",
       "├── (:preference, 3, 4) : 3.214143993377861e-6\n",
       "│\n",
       "├── (:attribute, 10, 7) : 0.003657509656182444\n",
       "│\n",
       "├── (:attribute, 7, 7) : 1.966173785672014e-5\n",
       "│\n",
       "├── (:rating, 6, 1) : 0\n",
       "│\n",
       "├── (:preference, 2, 7) : 0.17980295104691804\n",
       "│\n",
       "├── (:rating, 1, 8) : 0\n",
       "│\n",
       "├── (:rating, 4, 3) : 0\n",
       "│\n",
       "├── (:rating, 4, 9) : 0\n",
       "│\n",
       "├── (:rating, 1, 4) : 0\n",
       "│\n",
       "├── (:rating, 7, 9) : 0\n",
       "│\n",
       "├── (:rating, 9, 10) : 0\n",
       "│\n",
       "├── (:preference, 3, 6) : 0.00134631487356315\n",
       "│\n",
       "├── (:attribute, 2, 5) : 2.608711751263631e-9\n",
       "│\n",
       "├── (:rating, 5, 9) : 0\n",
       "│\n",
       "├── (:rating, 6, 8) : 0\n",
       "│\n",
       "├── (:rating, 9, 2) : 0\n",
       "│\n",
       "├── (:preference, 6, 7) : 0.0011302857526911986\n",
       "│\n",
       "├── (:rating, 7, 5) : 0\n",
       "│\n",
       "├── (:attribute, 5, 6) : 0.04153952171982785\n",
       "│\n",
       "├── (:rating, 4, 1) : 1\n",
       "│\n",
       "├── (:attribute, 1, 8) : 3.411657380901411\n",
       "│\n",
       "├── (:attribute, 2, 2) : 1.1734852417922077e-6\n",
       "│\n",
       "├── (:attribute, 5, 9) : 1.158660234265401e-6\n",
       "│\n",
       "├── (:activity, 9) : 0.6149575591598591\n",
       "│\n",
       "├── (:attribute, 8, 1) : 0.009158351478192354\n",
       "│\n",
       "├── (:rating, 8, 6) : 0\n",
       "│\n",
       "├── (:attribute, 1, 7) : 0.23415443725276094\n",
       "│\n",
       "├── (:preference, 7, 4) : 0.003405021077032642\n",
       "│\n",
       "├── (:preference, 10, 10) : 0.0005389123599717834\n",
       "│\n",
       "├── (:preference, 9, 3) : 0.3179409370340636\n",
       "│\n",
       "├── (:preference, 7, 6) : 0.0038213908033202467\n",
       "│\n",
       "├── (:preference, 8, 4) : 8.042117829118279e-6\n",
       "│\n",
       "├── (:attribute, 9, 4) : 0.0015182792536957586\n",
       "│\n",
       "├── (:preference, 7, 5) : 0.0025040595059434125\n",
       "│\n",
       "├── (:preference, 5, 4) : 0.010318411860249233\n",
       "│\n",
       "├── (:rating, 2, 3) : 0\n",
       "│\n",
       "├── (:preference, 5, 3) : 0.012455680003697324\n",
       "│\n",
       "├── (:preference, 9, 5) : 2.9319944440891217e-5\n",
       "│\n",
       "├── (:attribute, 2, 1) : 6.671899368071578e-6\n",
       "│\n",
       "├── (:attribute, 2, 8) : 7.415651606579242e-7\n",
       "│\n",
       "├── (:attribute, 7, 10) : 0.025547407897103892\n",
       "│\n",
       "├── (:attribute, 5, 3) : 0.0005387984936493748\n",
       "│\n",
       "├── (:preference, 6, 4) : 0.00017750684710963221\n",
       "│\n",
       "├── (:rating, 2, 8) : 0\n",
       "│\n",
       "├── (:preference, 4, 1) : 0.0035327975964338583\n",
       "│\n",
       "├── (:preference, 2, 6) : 0.017947150560101117\n",
       "│\n",
       "├── (:preference, 5, 2) : 0.00794984152034644\n",
       "│\n",
       "├── (:rating, 1, 5) : 0\n",
       "│\n",
       "├── (:popularity, 2) : 4.728963871977608e-6\n",
       "│\n",
       "├── (:preference, 2, 1) : 0.015352908414472332\n",
       "│\n",
       "├── (:preference, 8, 3) : 5.313316614121913e-5\n",
       "│\n",
       "├── (:attribute, 8, 5) : 0.018860826380314222\n",
       "│\n",
       "├── (:rating, 1, 6) : 0\n",
       "│\n",
       "├── (:preference, 8, 8) : 4.6469468480713024e-6\n",
       "│\n",
       "├── (:attribute, 2, 10) : 2.3918208139192155e-6\n",
       "│\n",
       "├── (:preference, 2, 10) : 0.06272836595118933\n",
       "│\n",
       "├── (:preference, 5, 9) : 0.0001357617218254787\n",
       "│\n",
       "├── (:preference, 3, 2) : 0.3430332968614033\n",
       "│\n",
       "├── (:preference, 4, 7) : 0.0006787185250922403\n",
       "│\n",
       "├── (:attribute, 6, 8) : 0.01153096267478275\n",
       "│\n",
       "├── (:rating, 5, 6) : 0\n",
       "│\n",
       "├── (:rating, 9, 7) : 0\n",
       "│\n",
       "├── (:rating, 9, 6) : 0\n",
       "│\n",
       "├── (:activity, 5) : 0.09961923612330992\n",
       "│\n",
       "├── (:rating, 1, 1) : 3\n",
       "│\n",
       "├── (:preference, 10, 8) : 0.010424756176406823\n",
       "│\n",
       "├── (:attribute, 8, 8) : 7.295737769812504e-6\n",
       "│\n",
       "├── (:attribute, 9, 2) : 0.00044976688416894606\n",
       "│\n",
       "├── (:preference, 2, 5) : 0.08101021522928895\n",
       "│\n",
       "├── (:rating, 8, 10) : 0\n",
       "│\n",
       "├── (:preference, 7, 2) : 0.00011340959720482406\n",
       "│\n",
       "├── (:preference, 3, 3) : 0.00041679893595372177\n",
       "│\n",
       "├── (:preference, 10, 4) : 0.11793740227534458\n",
       "│\n",
       "├── (:preference, 7, 7) : 1.931399997174765e-5\n",
       "│\n",
       "├── (:preference, 1, 7) : 0.0008430818011681019\n",
       "│\n",
       "├── (:attribute, 4, 6) : 0.046992863382446216\n",
       "│\n",
       "├── (:attribute, 1, 10) : 6.036409146556322\n",
       "│\n",
       "├── (:preference, 2, 9) : 0.014794464648785715\n",
       "│\n",
       "├── (:rating, 5, 7) : 1\n",
       "│\n",
       "├── (:attribute, 1, 5) : 0.14650632792876675\n",
       "│\n",
       "├── (:preference, 10, 6) : 0.04957001270542703\n",
       "│\n",
       "├── (:attribute, 10, 5) : 0.10874223535033463\n",
       "│\n",
       "├── (:rating, 2, 4) : 0\n",
       "│\n",
       "├── (:preference, 3, 5) : 0.01915939995134907\n",
       "│\n",
       "├── (:rating, 2, 10) : 0\n",
       "│\n",
       "├── (:preference, 4, 9) : 0.013537551452136557\n",
       "│\n",
       "├── (:rating, 6, 5) : 0\n",
       "│\n",
       "├── (:preference, 9, 8) : 0.23642965955978656\n",
       "│\n",
       "├── (:preference, 2, 8) : 0.005729625488299735\n",
       "│\n",
       "├── (:rating, 1, 2) : 0\n",
       "│\n",
       "├── (:attribute, 1, 9) : 0.00731767943414249\n",
       "│\n",
       "├── (:preference, 6, 10) : 2.6761071402878763e-7\n",
       "│\n",
       "├── (:rating, 4, 7) : 0\n",
       "│\n",
       "├── (:activity, 2) : 0.5009443842701924\n",
       "│\n",
       "├── (:rating, 9, 9) : 0\n",
       "│\n",
       "├── (:preference, 9, 10) : 0.7470304511094473\n",
       "│\n",
       "├── (:rating, 3, 1) : 0\n",
       "│\n",
       "├── (:attribute, 4, 2) : 0.017451744697824997\n",
       "│\n",
       "├── (:attribute, 3, 7) : 0.00020411772136076843\n",
       "│\n",
       "├── (:attribute, 9, 8) : 0.04851106328221764\n",
       "│\n",
       "├── (:rating, 8, 3) : 0\n",
       "│\n",
       "├── (:rating, 10, 3) : 0\n",
       "│\n",
       "├── (:rating, 7, 4) : 0\n",
       "│\n",
       "├── (:attribute, 1, 1) : 0.05178415003539647\n",
       "│\n",
       "├── (:attribute, 8, 4) : 0.05694721883424786\n",
       "│\n",
       "├── (:rating, 4, 2) : 0\n",
       "│\n",
       "├── (:attribute, 6, 5) : 0.006323458664018251\n",
       "│\n",
       "├── (:rating, 8, 4) : 0\n",
       "│\n",
       "├── (:attribute, 3, 3) : 0.01929750841361843\n",
       "│\n",
       "├── (:preference, 9, 1) : 0.002142090357249483\n",
       "│\n",
       "├── (:preference, 5, 10) : 0.006483101674125792\n",
       "│\n",
       "├── (:attribute, 1, 6) : 0.2317675392118987\n",
       "│\n",
       "├── (:attribute, 1, 2) : 0.044486979757103355\n",
       "│\n",
       "├── (:rating, 10, 2) : 0\n",
       "│\n",
       "├── (:rating, 10, 4) : 0\n",
       "│\n",
       "├── (:popularity, 1) : 2.8045286922400208\n",
       "│\n",
       "├── (:rating, 2, 7) : 0\n",
       "│\n",
       "├── (:preference, 10, 9) : 0.00591410524990138\n",
       "│\n",
       "├── (:attribute, 2, 3) : 1.4391998682334385e-8\n",
       "│\n",
       "├── (:preference, 6, 9) : 0.03047469261159403\n",
       "│\n",
       "├── (:rating, 3, 8) : 0\n",
       "│\n",
       "├── (:attribute, 9, 9) : 0.01444372499494699\n",
       "│\n",
       "├── (:attribute, 10, 9) : 0.10139820022230021\n",
       "│\n",
       "├── (:preference, 2, 3) : 0.20283883564187735\n",
       "│\n",
       "├── (:rating, 3, 5) : 0\n",
       "│\n",
       "├── (:rating, 7, 3) : 0\n",
       "│\n",
       "├── (:preference, 8, 10) : 0.03440301350138005\n",
       "│\n",
       "├── (:attribute, 2, 9) : 1.4225400679452815e-9\n",
       "│\n",
       "├── (:attribute, 10, 3) : 0.04972984625737478\n",
       "│\n",
       "├── (:rating, 8, 2) : 0\n",
       "│\n",
       "├── (:preference, 6, 5) : 0.0003222190560405405\n",
       "│\n",
       "├── (:rating, 6, 9) : 0\n",
       "│\n",
       "├── (:attribute, 8, 6) : 7.4319188856005935e-6\n",
       "│\n",
       "├── (:preference, 3, 1) : 0.009299462171816014\n",
       "│\n",
       "├── (:attribute, 10, 1) : 0.11684126348931737\n",
       "│\n",
       "├── (:rating, 3, 6) : 0\n",
       "│\n",
       "├── (:popularity, 7) : 0.09837627949949351\n",
       "│\n",
       "├── (:preference, 9, 6) : 0.4415477594539412\n",
       "│\n",
       "├── (:attribute, 2, 7) : 5.734733150556855e-6\n",
       "│\n",
       "├── (:attribute, 7, 1) : 0.006161475857926629\n",
       "│\n",
       "├── (:preference, 3, 10) : 0.023799670545415\n",
       "│\n",
       "├── (:attribute, 6, 1) : 0.0003535664728374219\n",
       "│\n",
       "├── (:attribute, 3, 9) : 0.007778511110836939\n",
       "│\n",
       "├── (:attribute, 3, 4) : 0.011897739548795631\n",
       "│\n",
       "├── (:attribute, 5, 2) : 0.0007425014792027309\n",
       "│\n",
       "├── (:attribute, 3, 5) : 4.144875522683595e-10\n",
       "│\n",
       "├── (:activity, 3) : 0.2117069596170406\n",
       "│\n",
       "├── (:preference, 8, 5) : 0.007218791598599274\n",
       "│\n",
       "├── (:preference, 7, 9) : 5.9930548943114195e-5\n",
       "│\n",
       "├── (:attribute, 7, 2) : 0.002624466244490572\n",
       "│\n",
       "├── (:rating, 4, 5) : 0\n",
       "│\n",
       "├── (:rating, 1, 9) : 0\n",
       "│\n",
       "├── (:preference, 9, 4) : 0.06748157464278058\n",
       "│\n",
       "├── (:rating, 1, 3) : 0\n",
       "│\n",
       "├── (:rating, 5, 10) : 0\n",
       "│\n",
       "├── (:rating, 3, 2) : 0\n",
       "│\n",
       "├── (:attribute, 6, 6) : 0.00026838991254863936\n",
       "│\n",
       "├── (:preference, 7, 10) : 2.6139557099517225e-5\n",
       "│\n",
       "├── (:attribute, 2, 6) : 4.970642452406432e-9\n",
       "│\n",
       "├── (:attribute, 7, 3) : 0.004537555502662053\n",
       "│\n",
       "├── (:rating, 6, 3) : 0\n",
       "│\n",
       "├── (:preference, 8, 9) : 0.014380889017206785\n",
       "│\n",
       "├── (:attribute, 9, 5) : 0.11847314152291213\n",
       "│\n",
       "├── (:preference, 1, 9) : 0.048214269404639486\n",
       "│\n",
       "├── (:attribute, 4, 9) : 0.41481899623404783\n",
       "│\n",
       "├── (:preference, 1, 4) : 0.023494299863516276\n",
       "│\n",
       "├── (:rating, 10, 10) : 0\n",
       "│\n",
       "├── (:rating, 10, 5) : 0\n",
       "│\n",
       "├── (:attribute, 10, 8) : 0.008980222178289794\n",
       "│\n",
       "├── (:preference, 8, 2) : 0.00022208943309633158\n",
       "│\n",
       "├── (:attribute, 4, 5) : 2.2587620130750254e-5\n",
       "│\n",
       "├── (:popularity, 6) : 0.015614836981094072\n",
       "│\n",
       "├── (:rating, 5, 4) : 0\n",
       "│\n",
       "├── (:preference, 1, 1) : 2.4532070109113963e-6\n",
       "│\n",
       "├── (:attribute, 6, 7) : 0.0015780891234622413\n",
       "│\n",
       "├── (:preference, 2, 4) : 0.0003334600252402416\n",
       "│\n",
       "├── (:attribute, 5, 10) : 8.278832835336635e-6\n",
       "│\n",
       "├── (:rating, 5, 8) : 0\n",
       "│\n",
       "├── (:rating, 6, 7) : 0\n",
       "│\n",
       "├── (:preference, 6, 8) : 0.02172457995457202\n",
       "│\n",
       "├── (:preference, 4, 8) : 0.16772898003436065\n",
       "│\n",
       "├── (:rating, 2, 9) : 0\n",
       "│\n",
       "├── (:attribute, 6, 4) : 1.58811315592798e-7\n",
       "│\n",
       "├── (:attribute, 7, 8) : 0.31047546860030684\n",
       "│\n",
       "├── (:attribute, 4, 1) : 0.04521625028497001\n",
       "│\n",
       "├── (:preference, 2, 2) : 0.273130583890165\n",
       "│\n",
       "├── (:rating, 10, 6) : 0\n",
       "│\n",
       "├── (:rating, 5, 1) : 0\n",
       "│\n",
       "├── (:attribute, 8, 7) : 0.005242230242369002\n",
       "│\n",
       "├── (:rating, 2, 5) : 0\n",
       "│\n",
       "├── (:rating, 8, 8) : 0\n",
       "│\n",
       "├── (:attribute, 8, 10) : 0.052888331158650034\n",
       "│\n",
       "├── (:attribute, 7, 9) : 0.268861511644038\n",
       "│\n",
       "├── (:attribute, 9, 7) : 0.6418021035426853\n",
       "│\n",
       "├── (:preference, 4, 4) : 0.052229100132056644\n",
       "│\n",
       "├── (:activity, 8) : 0.019198144701144396\n",
       "│\n",
       "├── (:attribute, 5, 5) : 0.0007944451325927034\n",
       "│\n",
       "├── (:preference, 3, 9) : 1.2242328872177638e-5\n",
       "│\n",
       "├── (:attribute, 8, 9) : 0.015623896560924857\n",
       "│\n",
       "├── (:preference, 7, 8) : 0.010997253834922647\n",
       "│\n",
       "├── (:preference, 10, 1) : 0.010235475495244681\n",
       "│\n",
       "├── (:attribute, 5, 1) : 0.000633822674448272\n",
       "│\n",
       "├── (:rating, 5, 5) : 0\n",
       "│\n",
       "├── (:preference, 10, 7) : 0.0580252077534019\n",
       "│\n",
       "├── (:popularity, 3) : 0.02353480133200715\n",
       "│\n",
       "├── (:popularity, 8) : 0.12634586430511444\n",
       "│\n",
       "├── (:preference, 4, 5) : 0.9412040324997033\n",
       "│\n",
       "├── (:preference, 8, 1) : 0.0005500898086488729\n",
       "│\n",
       "├── (:rating, 6, 2) : 0\n",
       "│\n",
       "├── (:attribute, 10, 10) : 0.028558846590678075\n",
       "│\n",
       "├── (:preference, 4, 6) : 0.4278775331185553\n",
       "│\n",
       "├── (:preference, 1, 5) : 0.1999109233403328\n",
       "│\n",
       "├── (:preference, 4, 2) : 0.015249444008566919\n",
       "│\n",
       "├── (:preference, 6, 2) : 0.0013019502616588806\n",
       "│\n",
       "├── (:attribute, 5, 8) : 1.1280506543811513e-6\n",
       "│\n",
       "├── (:popularity, 5) : 0.03191473044318871\n",
       "│\n",
       "├── (:attribute, 6, 10) : 5.2538250596293615e-6\n",
       "│\n",
       "├── (:attribute, 1, 3) : 0.09830434357214558\n",
       "│\n",
       "├── (:attribute, 9, 1) : 7.601251301479781e-5\n",
       "│\n",
       "├── (:rating, 2, 1) : 0\n",
       "│\n",
       "├── (:rating, 8, 9) : 0\n",
       "│\n",
       "├── (:attribute, 2, 4) : 1.1774665782212825e-5\n",
       "│\n",
       "├── (:preference, 10, 5) : 0.021224621803456304\n",
       "│\n",
       "├── (:rating, 8, 7) : 0\n",
       "│\n",
       "├── (:attribute, 1, 4) : 5.201594441075709e-5\n",
       "│\n",
       "├── (:preference, 3, 8) : 0.029075805650560994\n",
       "│\n",
       "├── (:rating, 10, 1) : 0\n",
       "│\n",
       "├── (:preference, 10, 3) : 0.006989215756107357\n",
       "│\n",
       "├── (:attribute, 6, 9) : 0.00021700825469251123\n",
       "│\n",
       "├── (:attribute, 4, 8) : 0.7833399510904536\n",
       "│\n",
       "├── (:preference, 6, 1) : 0.01580598974069017\n",
       "│\n",
       "├── (:attribute, 3, 2) : 0.0008919482209996623\n",
       "│\n",
       "├── (:rating, 9, 4) : 1\n",
       "│\n",
       "├── (:preference, 5, 1) : 0.0010622768081067092\n",
       "│\n",
       "├── (:preference, 3, 7) : 0.08934656647156607\n",
       "│\n",
       "├── (:rating, 1, 10) : 0\n",
       "│\n",
       "├── (:rating, 5, 2) : 0\n",
       "│\n",
       "├── (:rating, 2, 6) : 0\n",
       "│\n",
       "├── (:rating, 9, 8) : 1\n",
       "│\n",
       "├── (:activity, 10) : 0.13985925356372209\n",
       "│\n",
       "├── (:attribute, 7, 6) : 7.83303040636313e-5\n",
       "│\n",
       "├── (:rating, 4, 8) : 0\n",
       "│\n",
       "├── (:rating, 8, 5) : 0\n",
       "│\n",
       "├── (:rating, 8, 1) : 1\n",
       "│\n",
       "├── (:preference, 8, 7) : 0.018302293405715632\n",
       "│\n",
       "├── (:rating, 10, 9) : 0\n",
       "│\n",
       "├── (:preference, 5, 8) : 0.026683266488692733\n",
       "│\n",
       "├── (:attribute, 10, 6) : 0.05941304147507916\n",
       "│\n",
       "├── (:rating, 7, 7) : 0\n",
       "│\n",
       "├── (:attribute, 6, 3) : 0.004469921404725791\n",
       "│\n",
       "├── (:preference, 10, 2) : 0.00166686744378783\n",
       "│\n",
       "├── (:attribute, 7, 4) : 0.0184741072909379\n",
       "│\n",
       "├── (:rating, 9, 3) : 0\n",
       "│\n",
       "├── (:attribute, 10, 4) : 3.911548110263018e-7\n",
       "│\n",
       "├── (:attribute, 10, 2) : 8.205054658750598e-5\n",
       "│\n",
       "├── (:popularity, 9) : 0.2689018551241044\n",
       "│\n",
       "├── (:preference, 6, 3) : 0.002058370259694374\n",
       "│\n",
       "├── (:rating, 9, 1) : 6\n",
       "│\n",
       "├── (:preference, 4, 10) : 0.03882182663708766\n",
       "│\n",
       "├── (:rating, 7, 10) : 0\n",
       "│\n",
       "├── (:preference, 5, 7) : 0.005720116790728957\n",
       "│\n",
       "├── (:preference, 1, 2) : 0.07502884955054531\n",
       "│\n",
       "├── (:attribute, 9, 10) : 0.0912706734378122\n",
       "│\n",
       "├── (:attribute, 9, 6) : 0.048699237325506683\n",
       "│\n",
       "├── (:rating, 10, 8) : 0\n",
       "│\n",
       "├── (:rating, 6, 6) : 0\n",
       "│\n",
       "├── (:rating, 3, 7) : 0\n",
       "│\n",
       "├── (:rating, 4, 10) : 0\n",
       "│\n",
       "├── (:preference, 1, 8) : 0.026554169761016166\n",
       "│\n",
       "├── (:attribute, 8, 3) : 0.08812712457940623\n",
       "│\n",
       "├── (:attribute, 5, 4) : 2.329634123783117e-5\n",
       "│\n",
       "├── (:attribute, 9, 3) : 0.12413445104529151\n",
       "│\n",
       "├── (:attribute, 4, 7) : 0.1945787671864938\n",
       "│\n",
       "├── (:rating, 3, 3) : 0\n",
       "│\n",
       "├── (:popularity, 4) : 0.47437522813251776\n",
       "│\n",
       "├── (:preference, 1, 3) : 0.13265250461437905\n",
       "│\n",
       "├── (:attribute, 6, 2) : 0.007091540264154125\n",
       "│\n",
       "├── (:preference, 7, 3) : 0.0002112529636455971\n",
       "│\n",
       "├── (:activity, 1) : 0.1971347975576129\n",
       "│\n",
       "├── (:attribute, 3, 1) : 0.0037006076146921542\n",
       "│\n",
       "├── (:preference, 9, 7) : 0.00025943950610090937\n",
       "│\n",
       "├── (:attribute, 3, 6) : 0.00011317171060732069\n",
       "│\n",
       "├── (:rating, 5, 3) : 0\n",
       "│\n",
       "├── (:rating, 1, 7) : 0\n",
       "│\n",
       "├── (:preference, 6, 6) : 0.0015356490425833954\n",
       "│\n",
       "├── (:rating, 7, 6) : 0\n",
       "│\n",
       "├── (:rating, 4, 4) : 0\n",
       "│\n",
       "├── (:preference, 9, 2) : 0.060208508270262195\n",
       "│\n",
       "├── (:attribute, 3, 8) : 0.0003379939296888723\n",
       "│\n",
       "├── (:preference, 4, 3) : 0.009574453810851738\n",
       "│\n",
       "├── (:preference, 7, 1) : 0.00036192478458320153\n",
       "│\n",
       "├── (:preference, 1, 10) : 0.4273229483512292\n",
       "│\n",
       "└── (:attribute, 5, 7) : 0.00012068336856503098\n"
      ]
     },
     "metadata": {},
     "output_type": "display_data"
    }
   ],
   "source": [
    "Gen.get_choices(trace)\n"
   ]
  },
  {
   "cell_type": "markdown",
   "metadata": {},
   "source": [
    "### Create constraints"
   ]
  },
  {
   "cell_type": "code",
   "execution_count": 45,
   "metadata": {},
   "outputs": [],
   "source": [
    "function make_constraints(ys::Matrix{Float64})\n",
    "    constraints = Gen.choicemap()\n",
    "    for u=1:size(ys)[1]\n",
    "        for i=1:size(ys)[2]  \n",
    "        constraints[(:rating, u, i)] = ys[u,i]\n",
    "        end\n",
    "    end\n",
    "    constraints\n",
    "end;"
   ]
  },
  {
   "attachments": {},
   "cell_type": "markdown",
   "metadata": {},
   "source": [
    "Check if it works"
   ]
  },
  {
   "cell_type": "code",
   "execution_count": 46,
   "metadata": {},
   "outputs": [
    {
     "data": {
      "text/plain": [
       "│\n",
       "├── (:rating, 6, 10) : 7.0\n",
       "│\n",
       "├── (:rating, 1, 1) : 8.0\n",
       "│\n",
       "├── (:rating, 9, 5) : 10.0\n",
       "│\n",
       "├── (:rating, 6, 4) : 0.0\n",
       "│\n",
       "├── (:rating, 8, 10) : 6.0\n",
       "│\n",
       "├── (:rating, 3, 10) : 8.0\n",
       "│\n",
       "├── (:rating, 4, 5) : 4.0\n",
       "│\n",
       "├── (:rating, 1, 9) : 0.0\n",
       "│\n",
       "├── (:rating, 4, 6) : 8.0\n",
       "│\n",
       "├── (:rating, 9, 4) : 0.0\n",
       "│\n",
       "├── (:rating, 1, 3) : 8.0\n",
       "│\n",
       "├── (:rating, 5, 10) : 6.0\n",
       "│\n",
       "├── (:rating, 3, 2) : 6.0\n",
       "│\n",
       "├── (:rating, 1, 10) : 6.0\n",
       "│\n",
       "├── (:rating, 5, 2) : 6.0\n",
       "│\n",
       "├── (:rating, 2, 6) : 8.0\n",
       "│\n",
       "├── (:rating, 6, 3) : 3.0\n",
       "│\n",
       "├── (:rating, 7, 1) : 10.0\n",
       "│\n",
       "├── (:rating, 3, 4) : 0.0\n",
       "│\n",
       "├── (:rating, 9, 8) : 10.0\n",
       "│\n",
       "├── (:rating, 7, 8) : 0.0\n",
       "│\n",
       "├── (:rating, 10, 10) : 0.0\n",
       "│\n",
       "├── (:rating, 5, 7) : 6.0\n",
       "│\n",
       "├── (:rating, 10, 5) : 8.0\n",
       "│\n",
       "├── (:rating, 5, 4) : 0.0\n",
       "│\n",
       "├── (:rating, 4, 8) : 0.0\n",
       "│\n",
       "├── (:rating, 10, 7) : 6.0\n",
       "│\n",
       "├── (:rating, 2, 2) : 8.0\n",
       "│\n",
       "├── (:rating, 2, 4) : 6.0\n",
       "│\n",
       "├── (:rating, 8, 5) : 6.0\n",
       "│\n",
       "├── (:rating, 8, 1) : 10.0\n",
       "│\n",
       "├── (:rating, 7, 2) : 0.0\n",
       "│\n",
       "├── (:rating, 2, 10) : 6.0\n",
       "│\n",
       "├── (:rating, 3, 9) : 0.0\n",
       "│\n",
       "├── (:rating, 10, 9) : 10.0\n",
       "│\n",
       "├── (:rating, 6, 5) : 0.0\n",
       "│\n",
       "├── (:rating, 7, 7) : 6.0\n",
       "│\n",
       "├── (:rating, 5, 8) : 0.0\n",
       "│\n",
       "├── (:rating, 1, 2) : 6.0\n",
       "│\n",
       "├── (:rating, 6, 7) : 5.0\n",
       "│\n",
       "├── (:rating, 2, 9) : 0.0\n",
       "│\n",
       "├── (:rating, 4, 7) : 4.0\n",
       "│\n",
       "├── (:rating, 6, 1) : 6.0\n",
       "│\n",
       "├── (:rating, 1, 8) : 6.0\n",
       "│\n",
       "├── (:rating, 4, 3) : 4.0\n",
       "│\n",
       "├── (:rating, 4, 9) : 0.0\n",
       "│\n",
       "├── (:rating, 1, 4) : 0.0\n",
       "│\n",
       "├── (:rating, 9, 3) : 10.0\n",
       "│\n",
       "├── (:rating, 9, 9) : 0.0\n",
       "│\n",
       "├── (:rating, 7, 9) : 6.0\n",
       "│\n",
       "├── (:rating, 9, 10) : 8.0\n",
       "│\n",
       "├── (:rating, 3, 1) : 0.0\n",
       "│\n",
       "├── (:rating, 6, 8) : 0.0\n",
       "│\n",
       "├── (:rating, 5, 9) : 0.0\n",
       "│\n",
       "├── (:rating, 8, 3) : 0.0\n",
       "│\n",
       "├── (:rating, 9, 2) : 0.0\n",
       "│\n",
       "├── (:rating, 10, 3) : 8.0\n",
       "│\n",
       "├── (:rating, 7, 4) : 0.0\n",
       "│\n",
       "├── (:rating, 9, 1) : 10.0\n",
       "│\n",
       "├── (:rating, 7, 5) : 6.0\n",
       "│\n",
       "├── (:rating, 4, 2) : 5.0\n",
       "│\n",
       "├── (:rating, 4, 1) : 5.0\n",
       "│\n",
       "├── (:rating, 5, 1) : 8.0\n",
       "│\n",
       "├── (:rating, 10, 6) : 10.0\n",
       "│\n",
       "├── (:rating, 7, 10) : 0.0\n",
       "│\n",
       "├── (:rating, 8, 4) : 0.0\n",
       "│\n",
       "├── (:rating, 8, 6) : 8.0\n",
       "│\n",
       "├── (:rating, 2, 5) : 10.0\n",
       "│\n",
       "├── (:rating, 10, 2) : 0.0\n",
       "│\n",
       "├── (:rating, 10, 4) : 0.0\n",
       "│\n",
       "├── (:rating, 8, 8) : 0.0\n",
       "│\n",
       "├── (:rating, 10, 8) : 0.0\n",
       "│\n",
       "├── (:rating, 2, 7) : 8.0\n",
       "│\n",
       "├── (:rating, 6, 6) : 9.0\n",
       "│\n",
       "├── (:rating, 3, 8) : 6.0\n",
       "│\n",
       "├── (:rating, 2, 3) : 10.0\n",
       "│\n",
       "├── (:rating, 3, 7) : 8.0\n",
       "│\n",
       "├── (:rating, 4, 10) : 9.0\n",
       "│\n",
       "├── (:rating, 3, 5) : 6.0\n",
       "│\n",
       "├── (:rating, 5, 5) : 6.0\n",
       "│\n",
       "├── (:rating, 7, 3) : 6.0\n",
       "│\n",
       "├── (:rating, 2, 8) : 6.0\n",
       "│\n",
       "├── (:rating, 3, 3) : 10.0\n",
       "│\n",
       "├── (:rating, 6, 2) : 5.0\n",
       "│\n",
       "├── (:rating, 8, 2) : 8.0\n",
       "│\n",
       "├── (:rating, 6, 9) : 3.0\n",
       "│\n",
       "├── (:rating, 1, 5) : 4.0\n",
       "│\n",
       "├── (:rating, 2, 1) : 0.0\n",
       "│\n",
       "├── (:rating, 8, 9) : 6.0\n",
       "│\n",
       "├── (:rating, 3, 6) : 6.0\n",
       "│\n",
       "├── (:rating, 8, 7) : 0.0\n",
       "│\n",
       "├── (:rating, 1, 6) : 6.0\n",
       "│\n",
       "├── (:rating, 5, 3) : 6.0\n",
       "│\n",
       "├── (:rating, 1, 7) : 6.0\n",
       "│\n",
       "├── (:rating, 7, 6) : 6.0\n",
       "│\n",
       "├── (:rating, 10, 1) : 8.0\n",
       "│\n",
       "├── (:rating, 4, 4) : 0.0\n",
       "│\n",
       "├── (:rating, 5, 6) : 6.0\n",
       "│\n",
       "├── (:rating, 9, 7) : 10.0\n",
       "│\n",
       "└── (:rating, 9, 6) : 0.0\n"
      ]
     },
     "metadata": {},
     "output_type": "display_data"
    }
   ],
   "source": [
    "make_constraints(xs)"
   ]
  },
  {
   "cell_type": "code",
   "execution_count": 47,
   "metadata": {},
   "outputs": [
    {
     "data": {
      "text/plain": [
       "block_resimulation_update (generic function with 1 method)"
      ]
     },
     "metadata": {},
     "output_type": "display_data"
    }
   ],
   "source": [
    "function block_resimulation_update(tr,num_users, num_items, k)\n",
    "\n",
    "    # Block 1: Update preference (theta)\n",
    "    for u = 1:num_users\n",
    "        for _k = 1:k \n",
    "        latent_variable = select(:preference,u,_k)\n",
    "        (tr, _) = mh(tr, latent_variable)\n",
    "        end\n",
    "    end\n",
    "\n",
    "\n",
    "    # Block 2: Update attribute (beta)\n",
    "    for i = 1:num_items\n",
    "        for _k = 1:k\n",
    "        latent_variable = select(:attribute,i,_k)\n",
    "        (tr, _) = mh(tr, latent_variable)\n",
    "        end\n",
    "    end\n",
    "\n",
    "    tr\n",
    "\n",
    "end"
   ]
  },
  {
   "cell_type": "code",
   "execution_count": 48,
   "metadata": {},
   "outputs": [],
   "source": [
    "function block_resimulation_inference(n_burnin, n_samples, thin)\n",
    "    observations = make_constraints(xs)\n",
    "    (tr, _) = generate(hpf_model, (num_users, num_items, k, a, c, a_prim, b_prim, c_prim, d_prim), observations)\n",
    "    for iter=1:n_burnin\n",
    "        tr = block_resimulation_update(tr,num_users,num_items,k)\n",
    "        if iter % 100 == 0 \n",
    "            print(iter)\n",
    "        end\n",
    "\n",
    "    end\n",
    "    trs = []\n",
    "    for iter=1:n_samples\n",
    "        for itert = 1:thin # reduce the autocorrelation in a sample of generated data by MCMC\n",
    "            tr = block_resimulation_update(tr,num_users,num_items,k)\n",
    "        end\n",
    "        push!(trs, tr)\n",
    "        if iter % 100 == 0 \n",
    "            print(iter)\n",
    "        end\n",
    "    end\n",
    "\n",
    "    trs\n",
    "\n",
    "end;"
   ]
  },
  {
   "cell_type": "markdown",
   "metadata": {},
   "source": [
    "### TRAIN"
   ]
  },
  {
   "cell_type": "code",
   "execution_count": 49,
   "metadata": {},
   "outputs": [
    {
     "name": "stdout",
     "output_type": "stream",
     "text": [
      "100"
     ]
    },
    {
     "name": "stdout",
     "output_type": "stream",
     "text": [
      "200300"
     ]
    },
    {
     "name": "stdout",
     "output_type": "stream",
     "text": [
      "400"
     ]
    },
    {
     "name": "stdout",
     "output_type": "stream",
     "text": [
      "500600"
     ]
    },
    {
     "name": "stdout",
     "output_type": "stream",
     "text": [
      "700800"
     ]
    },
    {
     "name": "stdout",
     "output_type": "stream",
     "text": [
      "9001000"
     ]
    },
    {
     "name": "stdout",
     "output_type": "stream",
     "text": [
      "1100"
     ]
    },
    {
     "name": "stdout",
     "output_type": "stream",
     "text": [
      "1200"
     ]
    },
    {
     "name": "stdout",
     "output_type": "stream",
     "text": [
      "1300"
     ]
    },
    {
     "name": "stdout",
     "output_type": "stream",
     "text": [
      "1400"
     ]
    },
    {
     "name": "stdout",
     "output_type": "stream",
     "text": [
      "15001600"
     ]
    },
    {
     "name": "stdout",
     "output_type": "stream",
     "text": [
      "17001800"
     ]
    },
    {
     "name": "stdout",
     "output_type": "stream",
     "text": [
      "19002000"
     ]
    },
    {
     "name": "stdout",
     "output_type": "stream",
     "text": [
      "21002200"
     ]
    },
    {
     "name": "stdout",
     "output_type": "stream",
     "text": [
      "2300"
     ]
    },
    {
     "name": "stdout",
     "output_type": "stream",
     "text": [
      "24002500"
     ]
    },
    {
     "name": "stdout",
     "output_type": "stream",
     "text": [
      "26002700"
     ]
    },
    {
     "name": "stdout",
     "output_type": "stream",
     "text": [
      "2800"
     ]
    },
    {
     "name": "stdout",
     "output_type": "stream",
     "text": [
      "2900"
     ]
    },
    {
     "name": "stdout",
     "output_type": "stream",
     "text": [
      "3000"
     ]
    },
    {
     "name": "stdout",
     "output_type": "stream",
     "text": [
      "3100"
     ]
    },
    {
     "name": "stdout",
     "output_type": "stream",
     "text": [
      "320033003400"
     ]
    },
    {
     "name": "stdout",
     "output_type": "stream",
     "text": [
      "35003600"
     ]
    },
    {
     "name": "stdout",
     "output_type": "stream",
     "text": [
      "3700"
     ]
    },
    {
     "name": "stdout",
     "output_type": "stream",
     "text": [
      "3800"
     ]
    },
    {
     "name": "stdout",
     "output_type": "stream",
     "text": [
      "39004000"
     ]
    },
    {
     "name": "stdout",
     "output_type": "stream",
     "text": [
      "4100"
     ]
    },
    {
     "name": "stdout",
     "output_type": "stream",
     "text": [
      "4200"
     ]
    },
    {
     "name": "stdout",
     "output_type": "stream",
     "text": [
      "430044004500"
     ]
    },
    {
     "name": "stdout",
     "output_type": "stream",
     "text": [
      "4600"
     ]
    },
    {
     "name": "stdout",
     "output_type": "stream",
     "text": [
      "47004800"
     ]
    },
    {
     "name": "stdout",
     "output_type": "stream",
     "text": [
      "4900"
     ]
    },
    {
     "name": "stdout",
     "output_type": "stream",
     "text": [
      "5000"
     ]
    },
    {
     "name": "stdout",
     "output_type": "stream",
     "text": [
      "5100"
     ]
    },
    {
     "name": "stdout",
     "output_type": "stream",
     "text": [
      "52005300"
     ]
    },
    {
     "name": "stdout",
     "output_type": "stream",
     "text": [
      "5400"
     ]
    },
    {
     "name": "stdout",
     "output_type": "stream",
     "text": [
      "550056005700"
     ]
    },
    {
     "name": "stdout",
     "output_type": "stream",
     "text": [
      "5800"
     ]
    },
    {
     "name": "stdout",
     "output_type": "stream",
     "text": [
      "5900"
     ]
    },
    {
     "name": "stdout",
     "output_type": "stream",
     "text": [
      "600061006200"
     ]
    },
    {
     "name": "stdout",
     "output_type": "stream",
     "text": [
      "6300"
     ]
    },
    {
     "name": "stdout",
     "output_type": "stream",
     "text": [
      "64006500"
     ]
    },
    {
     "name": "stdout",
     "output_type": "stream",
     "text": [
      "66006700"
     ]
    },
    {
     "name": "stdout",
     "output_type": "stream",
     "text": [
      "6800"
     ]
    },
    {
     "name": "stdout",
     "output_type": "stream",
     "text": [
      "6900"
     ]
    },
    {
     "name": "stdout",
     "output_type": "stream",
     "text": [
      "7000"
     ]
    },
    {
     "name": "stdout",
     "output_type": "stream",
     "text": [
      "7100"
     ]
    },
    {
     "name": "stdout",
     "output_type": "stream",
     "text": [
      "7200"
     ]
    },
    {
     "name": "stdout",
     "output_type": "stream",
     "text": [
      "73007400"
     ]
    },
    {
     "name": "stdout",
     "output_type": "stream",
     "text": [
      "7500"
     ]
    },
    {
     "name": "stdout",
     "output_type": "stream",
     "text": [
      "76007700"
     ]
    },
    {
     "name": "stdout",
     "output_type": "stream",
     "text": [
      "78007900"
     ]
    },
    {
     "name": "stdout",
     "output_type": "stream",
     "text": [
      "8000"
     ]
    },
    {
     "name": "stdout",
     "output_type": "stream",
     "text": [
      "8100"
     ]
    },
    {
     "name": "stdout",
     "output_type": "stream",
     "text": [
      "8200"
     ]
    },
    {
     "name": "stdout",
     "output_type": "stream",
     "text": [
      "830084008500"
     ]
    },
    {
     "name": "stdout",
     "output_type": "stream",
     "text": [
      "8600"
     ]
    },
    {
     "name": "stdout",
     "output_type": "stream",
     "text": [
      "8700"
     ]
    },
    {
     "name": "stdout",
     "output_type": "stream",
     "text": [
      "88008900"
     ]
    },
    {
     "name": "stdout",
     "output_type": "stream",
     "text": [
      "9000"
     ]
    },
    {
     "name": "stdout",
     "output_type": "stream",
     "text": [
      "91009200"
     ]
    },
    {
     "name": "stdout",
     "output_type": "stream",
     "text": [
      "9300"
     ]
    },
    {
     "name": "stdout",
     "output_type": "stream",
     "text": [
      "94009500"
     ]
    },
    {
     "name": "stdout",
     "output_type": "stream",
     "text": [
      "96009700"
     ]
    },
    {
     "name": "stdout",
     "output_type": "stream",
     "text": [
      "98009900"
     ]
    },
    {
     "name": "stdout",
     "output_type": "stream",
     "text": [
      "10000"
     ]
    },
    {
     "name": "stdout",
     "output_type": "stream",
     "text": [
      "1010010200"
     ]
    },
    {
     "name": "stdout",
     "output_type": "stream",
     "text": [
      "10300"
     ]
    },
    {
     "name": "stdout",
     "output_type": "stream",
     "text": [
      "104001050010600"
     ]
    },
    {
     "name": "stdout",
     "output_type": "stream",
     "text": [
      "10700"
     ]
    },
    {
     "name": "stdout",
     "output_type": "stream",
     "text": [
      "108001090011000"
     ]
    },
    {
     "name": "stdout",
     "output_type": "stream",
     "text": [
      "11100"
     ]
    },
    {
     "name": "stdout",
     "output_type": "stream",
     "text": [
      "1120011300"
     ]
    },
    {
     "name": "stdout",
     "output_type": "stream",
     "text": [
      "11400"
     ]
    },
    {
     "name": "stdout",
     "output_type": "stream",
     "text": [
      "11500"
     ]
    },
    {
     "name": "stdout",
     "output_type": "stream",
     "text": [
      "1160011700"
     ]
    },
    {
     "name": "stdout",
     "output_type": "stream",
     "text": [
      "11800"
     ]
    },
    {
     "name": "stdout",
     "output_type": "stream",
     "text": [
      "1190012000"
     ]
    },
    {
     "name": "stdout",
     "output_type": "stream",
     "text": [
      "1210012200"
     ]
    },
    {
     "name": "stdout",
     "output_type": "stream",
     "text": [
      "12300"
     ]
    },
    {
     "name": "stdout",
     "output_type": "stream",
     "text": [
      "1240012500"
     ]
    },
    {
     "name": "stdout",
     "output_type": "stream",
     "text": [
      "1260012700"
     ]
    },
    {
     "name": "stdout",
     "output_type": "stream",
     "text": [
      "12800"
     ]
    },
    {
     "name": "stdout",
     "output_type": "stream",
     "text": [
      "1290013000"
     ]
    },
    {
     "name": "stdout",
     "output_type": "stream",
     "text": [
      "13100"
     ]
    },
    {
     "name": "stdout",
     "output_type": "stream",
     "text": [
      "1320013300"
     ]
    },
    {
     "name": "stdout",
     "output_type": "stream",
     "text": [
      "1340013500"
     ]
    },
    {
     "name": "stdout",
     "output_type": "stream",
     "text": [
      "13600"
     ]
    },
    {
     "name": "stdout",
     "output_type": "stream",
     "text": [
      "13700"
     ]
    },
    {
     "name": "stdout",
     "output_type": "stream",
     "text": [
      "1380013900"
     ]
    },
    {
     "name": "stdout",
     "output_type": "stream",
     "text": [
      "14000"
     ]
    },
    {
     "name": "stdout",
     "output_type": "stream",
     "text": [
      "1410014200"
     ]
    },
    {
     "name": "stdout",
     "output_type": "stream",
     "text": [
      "14300"
     ]
    },
    {
     "name": "stdout",
     "output_type": "stream",
     "text": [
      "14400"
     ]
    },
    {
     "name": "stdout",
     "output_type": "stream",
     "text": [
      "14500"
     ]
    },
    {
     "name": "stdout",
     "output_type": "stream",
     "text": [
      "14600"
     ]
    },
    {
     "name": "stdout",
     "output_type": "stream",
     "text": [
      "1470014800"
     ]
    },
    {
     "name": "stdout",
     "output_type": "stream",
     "text": [
      "14900"
     ]
    },
    {
     "name": "stdout",
     "output_type": "stream",
     "text": [
      "1500015100"
     ]
    },
    {
     "name": "stdout",
     "output_type": "stream",
     "text": [
      "15200"
     ]
    },
    {
     "name": "stdout",
     "output_type": "stream",
     "text": [
      "15300"
     ]
    },
    {
     "name": "stdout",
     "output_type": "stream",
     "text": [
      "154001550015600"
     ]
    },
    {
     "name": "stdout",
     "output_type": "stream",
     "text": [
      "1570015800"
     ]
    },
    {
     "name": "stdout",
     "output_type": "stream",
     "text": [
      "15900"
     ]
    },
    {
     "name": "stdout",
     "output_type": "stream",
     "text": [
      "1600016100"
     ]
    },
    {
     "name": "stdout",
     "output_type": "stream",
     "text": [
      "1620016300"
     ]
    },
    {
     "name": "stdout",
     "output_type": "stream",
     "text": [
      "1640016500"
     ]
    },
    {
     "name": "stdout",
     "output_type": "stream",
     "text": [
      "1660016700"
     ]
    },
    {
     "name": "stdout",
     "output_type": "stream",
     "text": [
      "16800"
     ]
    },
    {
     "name": "stdout",
     "output_type": "stream",
     "text": [
      "1690017000"
     ]
    },
    {
     "name": "stdout",
     "output_type": "stream",
     "text": [
      "17100"
     ]
    },
    {
     "name": "stdout",
     "output_type": "stream",
     "text": [
      "17200"
     ]
    },
    {
     "name": "stdout",
     "output_type": "stream",
     "text": [
      "1730017400"
     ]
    },
    {
     "name": "stdout",
     "output_type": "stream",
     "text": [
      "17500"
     ]
    },
    {
     "name": "stdout",
     "output_type": "stream",
     "text": [
      "1760017700"
     ]
    },
    {
     "name": "stdout",
     "output_type": "stream",
     "text": [
      "17800"
     ]
    },
    {
     "name": "stdout",
     "output_type": "stream",
     "text": [
      "1790018000"
     ]
    },
    {
     "name": "stdout",
     "output_type": "stream",
     "text": [
      "1810018200"
     ]
    },
    {
     "name": "stdout",
     "output_type": "stream",
     "text": [
      "18300"
     ]
    },
    {
     "name": "stdout",
     "output_type": "stream",
     "text": [
      "1840018500"
     ]
    },
    {
     "name": "stdout",
     "output_type": "stream",
     "text": [
      "18600"
     ]
    },
    {
     "name": "stdout",
     "output_type": "stream",
     "text": [
      "1870018800"
     ]
    },
    {
     "name": "stdout",
     "output_type": "stream",
     "text": [
      "1890019000"
     ]
    },
    {
     "name": "stdout",
     "output_type": "stream",
     "text": [
      "1910019200"
     ]
    },
    {
     "name": "stdout",
     "output_type": "stream",
     "text": [
      "19300"
     ]
    },
    {
     "name": "stdout",
     "output_type": "stream",
     "text": [
      "1940019500"
     ]
    },
    {
     "name": "stdout",
     "output_type": "stream",
     "text": [
      "19600"
     ]
    },
    {
     "name": "stdout",
     "output_type": "stream",
     "text": [
      "1970019800"
     ]
    },
    {
     "name": "stdout",
     "output_type": "stream",
     "text": [
      "1990020000"
     ]
    },
    {
     "name": "stdout",
     "output_type": "stream",
     "text": [
      "20100"
     ]
    },
    {
     "name": "stdout",
     "output_type": "stream",
     "text": [
      "20200"
     ]
    },
    {
     "name": "stdout",
     "output_type": "stream",
     "text": [
      "20300"
     ]
    },
    {
     "name": "stdout",
     "output_type": "stream",
     "text": [
      "20400"
     ]
    },
    {
     "name": "stdout",
     "output_type": "stream",
     "text": [
      "2050020600"
     ]
    },
    {
     "name": "stdout",
     "output_type": "stream",
     "text": [
      "20700"
     ]
    },
    {
     "name": "stdout",
     "output_type": "stream",
     "text": [
      "2080020900"
     ]
    },
    {
     "name": "stdout",
     "output_type": "stream",
     "text": [
      "21000"
     ]
    },
    {
     "name": "stdout",
     "output_type": "stream",
     "text": [
      "2110021200"
     ]
    },
    {
     "name": "stdout",
     "output_type": "stream",
     "text": [
      "21300"
     ]
    },
    {
     "name": "stdout",
     "output_type": "stream",
     "text": [
      "2140021500"
     ]
    },
    {
     "name": "stdout",
     "output_type": "stream",
     "text": [
      "21600"
     ]
    },
    {
     "name": "stdout",
     "output_type": "stream",
     "text": [
      "217002180021900"
     ]
    },
    {
     "name": "stdout",
     "output_type": "stream",
     "text": [
      "22000"
     ]
    },
    {
     "name": "stdout",
     "output_type": "stream",
     "text": [
      "22100"
     ]
    },
    {
     "name": "stdout",
     "output_type": "stream",
     "text": [
      "22200"
     ]
    },
    {
     "name": "stdout",
     "output_type": "stream",
     "text": [
      "2230022400"
     ]
    },
    {
     "name": "stdout",
     "output_type": "stream",
     "text": [
      "22500"
     ]
    },
    {
     "name": "stdout",
     "output_type": "stream",
     "text": [
      "22600"
     ]
    },
    {
     "name": "stdout",
     "output_type": "stream",
     "text": [
      "22700"
     ]
    },
    {
     "name": "stdout",
     "output_type": "stream",
     "text": [
      "2280022900"
     ]
    },
    {
     "name": "stdout",
     "output_type": "stream",
     "text": [
      "23000"
     ]
    },
    {
     "name": "stdout",
     "output_type": "stream",
     "text": [
      "2310023200"
     ]
    },
    {
     "name": "stdout",
     "output_type": "stream",
     "text": [
      "23300"
     ]
    },
    {
     "name": "stdout",
     "output_type": "stream",
     "text": [
      "2340023500"
     ]
    },
    {
     "name": "stdout",
     "output_type": "stream",
     "text": [
      "23600"
     ]
    },
    {
     "name": "stdout",
     "output_type": "stream",
     "text": [
      "2370023800"
     ]
    },
    {
     "name": "stdout",
     "output_type": "stream",
     "text": [
      "2390024000"
     ]
    },
    {
     "name": "stdout",
     "output_type": "stream",
     "text": [
      "24100"
     ]
    },
    {
     "name": "stdout",
     "output_type": "stream",
     "text": [
      "24200"
     ]
    },
    {
     "name": "stdout",
     "output_type": "stream",
     "text": [
      "2430024400"
     ]
    },
    {
     "name": "stdout",
     "output_type": "stream",
     "text": [
      "24500"
     ]
    },
    {
     "name": "stdout",
     "output_type": "stream",
     "text": [
      "2460024700"
     ]
    },
    {
     "name": "stdout",
     "output_type": "stream",
     "text": [
      "2480024900"
     ]
    },
    {
     "name": "stdout",
     "output_type": "stream",
     "text": [
      "2500025100"
     ]
    },
    {
     "name": "stdout",
     "output_type": "stream",
     "text": [
      "25200"
     ]
    },
    {
     "name": "stdout",
     "output_type": "stream",
     "text": [
      "2530025400"
     ]
    },
    {
     "name": "stdout",
     "output_type": "stream",
     "text": [
      "2550025600"
     ]
    },
    {
     "name": "stdout",
     "output_type": "stream",
     "text": [
      "25700"
     ]
    },
    {
     "name": "stdout",
     "output_type": "stream",
     "text": [
      "2580025900"
     ]
    },
    {
     "name": "stdout",
     "output_type": "stream",
     "text": [
      "26000"
     ]
    },
    {
     "name": "stdout",
     "output_type": "stream",
     "text": [
      "26100"
     ]
    },
    {
     "name": "stdout",
     "output_type": "stream",
     "text": [
      "26200"
     ]
    },
    {
     "name": "stdout",
     "output_type": "stream",
     "text": [
      "2630026400"
     ]
    },
    {
     "name": "stdout",
     "output_type": "stream",
     "text": [
      "26500"
     ]
    },
    {
     "name": "stdout",
     "output_type": "stream",
     "text": [
      "26600"
     ]
    },
    {
     "name": "stdout",
     "output_type": "stream",
     "text": [
      "2670026800"
     ]
    },
    {
     "name": "stdout",
     "output_type": "stream",
     "text": [
      "2690027000"
     ]
    },
    {
     "name": "stdout",
     "output_type": "stream",
     "text": [
      "27100"
     ]
    },
    {
     "name": "stdout",
     "output_type": "stream",
     "text": [
      "2720027300"
     ]
    },
    {
     "name": "stdout",
     "output_type": "stream",
     "text": [
      "27400"
     ]
    },
    {
     "name": "stdout",
     "output_type": "stream",
     "text": [
      "27500"
     ]
    },
    {
     "name": "stdout",
     "output_type": "stream",
     "text": [
      "2760027700"
     ]
    },
    {
     "name": "stdout",
     "output_type": "stream",
     "text": [
      "2780027900"
     ]
    },
    {
     "name": "stdout",
     "output_type": "stream",
     "text": [
      "2800028100"
     ]
    },
    {
     "name": "stdout",
     "output_type": "stream",
     "text": [
      "2820028300"
     ]
    },
    {
     "name": "stdout",
     "output_type": "stream",
     "text": [
      "2840028500"
     ]
    },
    {
     "name": "stdout",
     "output_type": "stream",
     "text": [
      "28600"
     ]
    },
    {
     "name": "stdout",
     "output_type": "stream",
     "text": [
      "28700"
     ]
    },
    {
     "name": "stdout",
     "output_type": "stream",
     "text": [
      "28800"
     ]
    },
    {
     "name": "stdout",
     "output_type": "stream",
     "text": [
      "2890029000"
     ]
    },
    {
     "name": "stdout",
     "output_type": "stream",
     "text": [
      "2910029200"
     ]
    },
    {
     "name": "stdout",
     "output_type": "stream",
     "text": [
      "29300"
     ]
    },
    {
     "name": "stdout",
     "output_type": "stream",
     "text": [
      "29400"
     ]
    },
    {
     "name": "stdout",
     "output_type": "stream",
     "text": [
      "2950029600"
     ]
    },
    {
     "name": "stdout",
     "output_type": "stream",
     "text": [
      "29700"
     ]
    },
    {
     "name": "stdout",
     "output_type": "stream",
     "text": [
      "2980029900"
     ]
    },
    {
     "name": "stdout",
     "output_type": "stream",
     "text": [
      "3000030100"
     ]
    },
    {
     "name": "stdout",
     "output_type": "stream",
     "text": [
      "30200"
     ]
    },
    {
     "name": "stdout",
     "output_type": "stream",
     "text": [
      "3030030400"
     ]
    },
    {
     "name": "stdout",
     "output_type": "stream",
     "text": [
      "30500"
     ]
    },
    {
     "name": "stdout",
     "output_type": "stream",
     "text": [
      "3060030700"
     ]
    },
    {
     "name": "stdout",
     "output_type": "stream",
     "text": [
      "30800"
     ]
    },
    {
     "name": "stdout",
     "output_type": "stream",
     "text": [
      "3090031000"
     ]
    },
    {
     "name": "stdout",
     "output_type": "stream",
     "text": [
      "31100"
     ]
    },
    {
     "name": "stdout",
     "output_type": "stream",
     "text": [
      "3120031300"
     ]
    },
    {
     "name": "stdout",
     "output_type": "stream",
     "text": [
      "31400"
     ]
    },
    {
     "name": "stdout",
     "output_type": "stream",
     "text": [
      "31500"
     ]
    },
    {
     "name": "stdout",
     "output_type": "stream",
     "text": [
      "3160031700"
     ]
    },
    {
     "name": "stdout",
     "output_type": "stream",
     "text": [
      "3180031900"
     ]
    },
    {
     "name": "stdout",
     "output_type": "stream",
     "text": [
      "32000"
     ]
    },
    {
     "name": "stdout",
     "output_type": "stream",
     "text": [
      "32100"
     ]
    },
    {
     "name": "stdout",
     "output_type": "stream",
     "text": [
      "3220032300"
     ]
    },
    {
     "name": "stdout",
     "output_type": "stream",
     "text": [
      "32400"
     ]
    },
    {
     "name": "stdout",
     "output_type": "stream",
     "text": [
      "3250032600"
     ]
    },
    {
     "name": "stdout",
     "output_type": "stream",
     "text": [
      "3270032800"
     ]
    },
    {
     "name": "stdout",
     "output_type": "stream",
     "text": [
      "32900"
     ]
    },
    {
     "name": "stdout",
     "output_type": "stream",
     "text": [
      "33000"
     ]
    },
    {
     "name": "stdout",
     "output_type": "stream",
     "text": [
      "3310033200"
     ]
    },
    {
     "name": "stdout",
     "output_type": "stream",
     "text": [
      "3330033400"
     ]
    },
    {
     "name": "stdout",
     "output_type": "stream",
     "text": [
      "33500"
     ]
    },
    {
     "name": "stdout",
     "output_type": "stream",
     "text": [
      "33600"
     ]
    },
    {
     "name": "stdout",
     "output_type": "stream",
     "text": [
      "3370033800"
     ]
    },
    {
     "name": "stdout",
     "output_type": "stream",
     "text": [
      "3390034000"
     ]
    },
    {
     "name": "stdout",
     "output_type": "stream",
     "text": [
      "3410034200"
     ]
    },
    {
     "name": "stdout",
     "output_type": "stream",
     "text": [
      "34300"
     ]
    },
    {
     "name": "stdout",
     "output_type": "stream",
     "text": [
      "3440034500"
     ]
    },
    {
     "name": "stdout",
     "output_type": "stream",
     "text": [
      "3460034700"
     ]
    },
    {
     "name": "stdout",
     "output_type": "stream",
     "text": [
      "34800"
     ]
    },
    {
     "name": "stdout",
     "output_type": "stream",
     "text": [
      "3490035000"
     ]
    },
    {
     "name": "stdout",
     "output_type": "stream",
     "text": [
      "3510035200"
     ]
    },
    {
     "name": "stdout",
     "output_type": "stream",
     "text": [
      "35300"
     ]
    },
    {
     "name": "stdout",
     "output_type": "stream",
     "text": [
      "35400"
     ]
    },
    {
     "name": "stdout",
     "output_type": "stream",
     "text": [
      "355003560035700"
     ]
    },
    {
     "name": "stdout",
     "output_type": "stream",
     "text": [
      "35800"
     ]
    },
    {
     "name": "stdout",
     "output_type": "stream",
     "text": [
      "3590036000"
     ]
    },
    {
     "name": "stdout",
     "output_type": "stream",
     "text": [
      "36100"
     ]
    },
    {
     "name": "stdout",
     "output_type": "stream",
     "text": [
      "36200"
     ]
    },
    {
     "name": "stdout",
     "output_type": "stream",
     "text": [
      "3630036400"
     ]
    },
    {
     "name": "stdout",
     "output_type": "stream",
     "text": [
      "36500"
     ]
    },
    {
     "name": "stdout",
     "output_type": "stream",
     "text": [
      "366003670036800"
     ]
    },
    {
     "name": "stdout",
     "output_type": "stream",
     "text": [
      "3690037000"
     ]
    },
    {
     "name": "stdout",
     "output_type": "stream",
     "text": [
      "3710037200"
     ]
    },
    {
     "name": "stdout",
     "output_type": "stream",
     "text": [
      "3730037400"
     ]
    },
    {
     "name": "stdout",
     "output_type": "stream",
     "text": [
      "3750037600"
     ]
    },
    {
     "name": "stdout",
     "output_type": "stream",
     "text": [
      "37700"
     ]
    },
    {
     "name": "stdout",
     "output_type": "stream",
     "text": [
      "37800"
     ]
    },
    {
     "name": "stdout",
     "output_type": "stream",
     "text": [
      "3790038000"
     ]
    },
    {
     "name": "stdout",
     "output_type": "stream",
     "text": [
      "38100"
     ]
    },
    {
     "name": "stdout",
     "output_type": "stream",
     "text": [
      "3820038300"
     ]
    },
    {
     "name": "stdout",
     "output_type": "stream",
     "text": [
      "38400"
     ]
    },
    {
     "name": "stdout",
     "output_type": "stream",
     "text": [
      "38500"
     ]
    },
    {
     "name": "stdout",
     "output_type": "stream",
     "text": [
      "3860038700"
     ]
    },
    {
     "name": "stdout",
     "output_type": "stream",
     "text": [
      "3880038900"
     ]
    },
    {
     "name": "stdout",
     "output_type": "stream",
     "text": [
      "3900039100"
     ]
    },
    {
     "name": "stdout",
     "output_type": "stream",
     "text": [
      "39200"
     ]
    },
    {
     "name": "stdout",
     "output_type": "stream",
     "text": [
      "393003940039500"
     ]
    },
    {
     "name": "stdout",
     "output_type": "stream",
     "text": [
      "39600"
     ]
    },
    {
     "name": "stdout",
     "output_type": "stream",
     "text": [
      "3970039800"
     ]
    },
    {
     "name": "stdout",
     "output_type": "stream",
     "text": [
      "3990040000"
     ]
    },
    {
     "name": "stdout",
     "output_type": "stream",
     "text": [
      "40100"
     ]
    },
    {
     "name": "stdout",
     "output_type": "stream",
     "text": [
      "40200"
     ]
    },
    {
     "name": "stdout",
     "output_type": "stream",
     "text": [
      "4030040400"
     ]
    },
    {
     "name": "stdout",
     "output_type": "stream",
     "text": [
      "4050040600"
     ]
    },
    {
     "name": "stdout",
     "output_type": "stream",
     "text": [
      "4070040800"
     ]
    },
    {
     "name": "stdout",
     "output_type": "stream",
     "text": [
      "4090041000"
     ]
    },
    {
     "name": "stdout",
     "output_type": "stream",
     "text": [
      "41100"
     ]
    },
    {
     "name": "stdout",
     "output_type": "stream",
     "text": [
      "41200"
     ]
    },
    {
     "name": "stdout",
     "output_type": "stream",
     "text": [
      "41300"
     ]
    },
    {
     "name": "stdout",
     "output_type": "stream",
     "text": [
      "4140041500"
     ]
    },
    {
     "name": "stdout",
     "output_type": "stream",
     "text": [
      "4160041700"
     ]
    },
    {
     "name": "stdout",
     "output_type": "stream",
     "text": [
      "41800"
     ]
    },
    {
     "name": "stdout",
     "output_type": "stream",
     "text": [
      "41900"
     ]
    },
    {
     "name": "stdout",
     "output_type": "stream",
     "text": [
      "4200042100"
     ]
    },
    {
     "name": "stdout",
     "output_type": "stream",
     "text": [
      "4220042300"
     ]
    },
    {
     "name": "stdout",
     "output_type": "stream",
     "text": [
      "42400"
     ]
    },
    {
     "name": "stdout",
     "output_type": "stream",
     "text": [
      "4250042600"
     ]
    },
    {
     "name": "stdout",
     "output_type": "stream",
     "text": [
      "4270042800"
     ]
    },
    {
     "name": "stdout",
     "output_type": "stream",
     "text": [
      "42900"
     ]
    },
    {
     "name": "stdout",
     "output_type": "stream",
     "text": [
      "4300043100"
     ]
    },
    {
     "name": "stdout",
     "output_type": "stream",
     "text": [
      "4320043300"
     ]
    },
    {
     "name": "stdout",
     "output_type": "stream",
     "text": [
      "43400"
     ]
    },
    {
     "name": "stdout",
     "output_type": "stream",
     "text": [
      "43500"
     ]
    },
    {
     "name": "stdout",
     "output_type": "stream",
     "text": [
      "43600"
     ]
    },
    {
     "name": "stdout",
     "output_type": "stream",
     "text": [
      "4370043800"
     ]
    },
    {
     "name": "stdout",
     "output_type": "stream",
     "text": [
      "43900"
     ]
    },
    {
     "name": "stdout",
     "output_type": "stream",
     "text": [
      "440004410044200"
     ]
    },
    {
     "name": "stdout",
     "output_type": "stream",
     "text": [
      "44300"
     ]
    },
    {
     "name": "stdout",
     "output_type": "stream",
     "text": [
      "4440044500"
     ]
    },
    {
     "name": "stdout",
     "output_type": "stream",
     "text": [
      "4460044700"
     ]
    },
    {
     "name": "stdout",
     "output_type": "stream",
     "text": [
      "44800"
     ]
    },
    {
     "name": "stdout",
     "output_type": "stream",
     "text": [
      "44900"
     ]
    },
    {
     "name": "stdout",
     "output_type": "stream",
     "text": [
      "45000"
     ]
    },
    {
     "name": "stdout",
     "output_type": "stream",
     "text": [
      "4510045200"
     ]
    },
    {
     "name": "stdout",
     "output_type": "stream",
     "text": [
      "4530045400"
     ]
    },
    {
     "name": "stdout",
     "output_type": "stream",
     "text": [
      "45500"
     ]
    },
    {
     "name": "stdout",
     "output_type": "stream",
     "text": [
      "4560045700"
     ]
    },
    {
     "name": "stdout",
     "output_type": "stream",
     "text": [
      "4580045900"
     ]
    },
    {
     "name": "stdout",
     "output_type": "stream",
     "text": [
      "46000"
     ]
    },
    {
     "name": "stdout",
     "output_type": "stream",
     "text": [
      "4610046200"
     ]
    },
    {
     "name": "stdout",
     "output_type": "stream",
     "text": [
      "463004640046500"
     ]
    },
    {
     "name": "stdout",
     "output_type": "stream",
     "text": [
      "46600"
     ]
    },
    {
     "name": "stdout",
     "output_type": "stream",
     "text": [
      "4670046800"
     ]
    },
    {
     "name": "stdout",
     "output_type": "stream",
     "text": [
      "46900"
     ]
    },
    {
     "name": "stdout",
     "output_type": "stream",
     "text": [
      "4700047100"
     ]
    },
    {
     "name": "stdout",
     "output_type": "stream",
     "text": [
      "47200"
     ]
    },
    {
     "name": "stdout",
     "output_type": "stream",
     "text": [
      "4730047400"
     ]
    },
    {
     "name": "stdout",
     "output_type": "stream",
     "text": [
      "47500"
     ]
    },
    {
     "name": "stdout",
     "output_type": "stream",
     "text": [
      "4760047700"
     ]
    },
    {
     "name": "stdout",
     "output_type": "stream",
     "text": [
      "4780047900"
     ]
    },
    {
     "name": "stdout",
     "output_type": "stream",
     "text": [
      "48000"
     ]
    },
    {
     "name": "stdout",
     "output_type": "stream",
     "text": [
      "48100"
     ]
    },
    {
     "name": "stdout",
     "output_type": "stream",
     "text": [
      "48200"
     ]
    },
    {
     "name": "stdout",
     "output_type": "stream",
     "text": [
      "48300"
     ]
    },
    {
     "name": "stdout",
     "output_type": "stream",
     "text": [
      "4840048500"
     ]
    },
    {
     "name": "stdout",
     "output_type": "stream",
     "text": [
      "48600"
     ]
    },
    {
     "name": "stdout",
     "output_type": "stream",
     "text": [
      "48700"
     ]
    },
    {
     "name": "stdout",
     "output_type": "stream",
     "text": [
      "4880048900"
     ]
    },
    {
     "name": "stdout",
     "output_type": "stream",
     "text": [
      "4900049100"
     ]
    },
    {
     "name": "stdout",
     "output_type": "stream",
     "text": [
      "4920049300"
     ]
    },
    {
     "name": "stdout",
     "output_type": "stream",
     "text": [
      "49400"
     ]
    },
    {
     "name": "stdout",
     "output_type": "stream",
     "text": [
      "49500"
     ]
    },
    {
     "name": "stdout",
     "output_type": "stream",
     "text": [
      "4960049700"
     ]
    },
    {
     "name": "stdout",
     "output_type": "stream",
     "text": [
      "49800"
     ]
    },
    {
     "name": "stdout",
     "output_type": "stream",
     "text": [
      "49900"
     ]
    },
    {
     "name": "stdout",
     "output_type": "stream",
     "text": [
      "50000"
     ]
    },
    {
     "name": "stdout",
     "output_type": "stream",
     "text": [
      "50100"
     ]
    },
    {
     "name": "stdout",
     "output_type": "stream",
     "text": [
      "50200"
     ]
    },
    {
     "name": "stdout",
     "output_type": "stream",
     "text": [
      "50300"
     ]
    },
    {
     "name": "stdout",
     "output_type": "stream",
     "text": [
      "50400"
     ]
    },
    {
     "name": "stdout",
     "output_type": "stream",
     "text": [
      "5050050600"
     ]
    },
    {
     "name": "stdout",
     "output_type": "stream",
     "text": [
      "50700"
     ]
    },
    {
     "name": "stdout",
     "output_type": "stream",
     "text": [
      "5080050900"
     ]
    },
    {
     "name": "stdout",
     "output_type": "stream",
     "text": [
      "51000"
     ]
    },
    {
     "name": "stdout",
     "output_type": "stream",
     "text": [
      "51100"
     ]
    },
    {
     "name": "stdout",
     "output_type": "stream",
     "text": [
      "5120051300"
     ]
    },
    {
     "name": "stdout",
     "output_type": "stream",
     "text": [
      "51400"
     ]
    },
    {
     "name": "stdout",
     "output_type": "stream",
     "text": [
      "5150051600"
     ]
    },
    {
     "name": "stdout",
     "output_type": "stream",
     "text": [
      "51700"
     ]
    },
    {
     "name": "stdout",
     "output_type": "stream",
     "text": [
      "5180051900"
     ]
    },
    {
     "name": "stdout",
     "output_type": "stream",
     "text": [
      "52000"
     ]
    },
    {
     "name": "stdout",
     "output_type": "stream",
     "text": [
      "5210052200"
     ]
    },
    {
     "name": "stdout",
     "output_type": "stream",
     "text": [
      "5230052400"
     ]
    },
    {
     "name": "stdout",
     "output_type": "stream",
     "text": [
      "52500"
     ]
    },
    {
     "name": "stdout",
     "output_type": "stream",
     "text": [
      "5260052700"
     ]
    },
    {
     "name": "stdout",
     "output_type": "stream",
     "text": [
      "52800"
     ]
    },
    {
     "name": "stdout",
     "output_type": "stream",
     "text": [
      "52900"
     ]
    },
    {
     "name": "stdout",
     "output_type": "stream",
     "text": [
      "5300053100"
     ]
    },
    {
     "name": "stdout",
     "output_type": "stream",
     "text": [
      "53200"
     ]
    },
    {
     "name": "stdout",
     "output_type": "stream",
     "text": [
      "5330053400"
     ]
    },
    {
     "name": "stdout",
     "output_type": "stream",
     "text": [
      "53500"
     ]
    },
    {
     "name": "stdout",
     "output_type": "stream",
     "text": [
      "5360053700"
     ]
    },
    {
     "name": "stdout",
     "output_type": "stream",
     "text": [
      "53800"
     ]
    },
    {
     "name": "stdout",
     "output_type": "stream",
     "text": [
      "539005400054100"
     ]
    },
    {
     "name": "stdout",
     "output_type": "stream",
     "text": [
      "54200"
     ]
    },
    {
     "name": "stdout",
     "output_type": "stream",
     "text": [
      "54300"
     ]
    },
    {
     "name": "stdout",
     "output_type": "stream",
     "text": [
      "5440054500"
     ]
    },
    {
     "name": "stdout",
     "output_type": "stream",
     "text": [
      "54600"
     ]
    },
    {
     "name": "stdout",
     "output_type": "stream",
     "text": [
      "5470054800"
     ]
    },
    {
     "name": "stdout",
     "output_type": "stream",
     "text": [
      "54900"
     ]
    },
    {
     "name": "stdout",
     "output_type": "stream",
     "text": [
      "5500055100"
     ]
    },
    {
     "name": "stdout",
     "output_type": "stream",
     "text": [
      "5520055300"
     ]
    },
    {
     "name": "stdout",
     "output_type": "stream",
     "text": [
      "554005550055600"
     ]
    },
    {
     "name": "stdout",
     "output_type": "stream",
     "text": [
      "55700"
     ]
    },
    {
     "name": "stdout",
     "output_type": "stream",
     "text": [
      "558005590056000"
     ]
    },
    {
     "name": "stdout",
     "output_type": "stream",
     "text": [
      "56100"
     ]
    },
    {
     "name": "stdout",
     "output_type": "stream",
     "text": [
      "56200"
     ]
    },
    {
     "name": "stdout",
     "output_type": "stream",
     "text": [
      "5630056400"
     ]
    },
    {
     "name": "stdout",
     "output_type": "stream",
     "text": [
      "56500"
     ]
    },
    {
     "name": "stdout",
     "output_type": "stream",
     "text": [
      "5660056700"
     ]
    },
    {
     "name": "stdout",
     "output_type": "stream",
     "text": [
      "5680056900"
     ]
    },
    {
     "name": "stdout",
     "output_type": "stream",
     "text": [
      "57000"
     ]
    },
    {
     "name": "stdout",
     "output_type": "stream",
     "text": [
      "5710057200"
     ]
    },
    {
     "name": "stdout",
     "output_type": "stream",
     "text": [
      "5730057400"
     ]
    },
    {
     "name": "stdout",
     "output_type": "stream",
     "text": [
      "5750057600"
     ]
    },
    {
     "name": "stdout",
     "output_type": "stream",
     "text": [
      "57700"
     ]
    },
    {
     "name": "stdout",
     "output_type": "stream",
     "text": [
      "5780057900"
     ]
    },
    {
     "name": "stdout",
     "output_type": "stream",
     "text": [
      "58000"
     ]
    },
    {
     "name": "stdout",
     "output_type": "stream",
     "text": [
      "5810058200"
     ]
    },
    {
     "name": "stdout",
     "output_type": "stream",
     "text": [
      "58300"
     ]
    },
    {
     "name": "stdout",
     "output_type": "stream",
     "text": [
      "5840058500"
     ]
    },
    {
     "name": "stdout",
     "output_type": "stream",
     "text": [
      "5860058700"
     ]
    },
    {
     "name": "stdout",
     "output_type": "stream",
     "text": [
      "58800"
     ]
    },
    {
     "name": "stdout",
     "output_type": "stream",
     "text": [
      "58900"
     ]
    },
    {
     "name": "stdout",
     "output_type": "stream",
     "text": [
      "5900059100"
     ]
    },
    {
     "name": "stdout",
     "output_type": "stream",
     "text": [
      "5920059300"
     ]
    },
    {
     "name": "stdout",
     "output_type": "stream",
     "text": [
      "59400"
     ]
    },
    {
     "name": "stdout",
     "output_type": "stream",
     "text": [
      "59500"
     ]
    },
    {
     "name": "stdout",
     "output_type": "stream",
     "text": [
      "5960059700"
     ]
    },
    {
     "name": "stdout",
     "output_type": "stream",
     "text": [
      "598005990060000"
     ]
    },
    {
     "name": "stdout",
     "output_type": "stream",
     "text": [
      "60100"
     ]
    },
    {
     "name": "stdout",
     "output_type": "stream",
     "text": [
      "6020060300"
     ]
    },
    {
     "name": "stdout",
     "output_type": "stream",
     "text": [
      "60400"
     ]
    },
    {
     "name": "stdout",
     "output_type": "stream",
     "text": [
      "6050060600"
     ]
    },
    {
     "name": "stdout",
     "output_type": "stream",
     "text": [
      "6070060800"
     ]
    },
    {
     "name": "stdout",
     "output_type": "stream",
     "text": [
      "6090061000"
     ]
    },
    {
     "name": "stdout",
     "output_type": "stream",
     "text": [
      "61100"
     ]
    },
    {
     "name": "stdout",
     "output_type": "stream",
     "text": [
      "6120061300"
     ]
    },
    {
     "name": "stdout",
     "output_type": "stream",
     "text": [
      "6140061500"
     ]
    },
    {
     "name": "stdout",
     "output_type": "stream",
     "text": [
      "61600"
     ]
    },
    {
     "name": "stdout",
     "output_type": "stream",
     "text": [
      "61700"
     ]
    },
    {
     "name": "stdout",
     "output_type": "stream",
     "text": [
      "6180061900"
     ]
    },
    {
     "name": "stdout",
     "output_type": "stream",
     "text": [
      "62000"
     ]
    },
    {
     "name": "stdout",
     "output_type": "stream",
     "text": [
      "6210062200"
     ]
    },
    {
     "name": "stdout",
     "output_type": "stream",
     "text": [
      "62300"
     ]
    },
    {
     "name": "stdout",
     "output_type": "stream",
     "text": [
      "624006250062600"
     ]
    },
    {
     "name": "stdout",
     "output_type": "stream",
     "text": [
      "62700"
     ]
    },
    {
     "name": "stdout",
     "output_type": "stream",
     "text": [
      "6280062900"
     ]
    },
    {
     "name": "stdout",
     "output_type": "stream",
     "text": [
      "63000"
     ]
    },
    {
     "name": "stdout",
     "output_type": "stream",
     "text": [
      "63100"
     ]
    },
    {
     "name": "stdout",
     "output_type": "stream",
     "text": [
      "6320063300"
     ]
    },
    {
     "name": "stdout",
     "output_type": "stream",
     "text": [
      "6340063500"
     ]
    },
    {
     "name": "stdout",
     "output_type": "stream",
     "text": [
      "63600"
     ]
    },
    {
     "name": "stdout",
     "output_type": "stream",
     "text": [
      "6370063800"
     ]
    },
    {
     "name": "stdout",
     "output_type": "stream",
     "text": [
      "63900"
     ]
    },
    {
     "name": "stdout",
     "output_type": "stream",
     "text": [
      "64000"
     ]
    },
    {
     "name": "stdout",
     "output_type": "stream",
     "text": [
      "64100"
     ]
    },
    {
     "name": "stdout",
     "output_type": "stream",
     "text": [
      "6420064300"
     ]
    },
    {
     "name": "stdout",
     "output_type": "stream",
     "text": [
      "64400"
     ]
    },
    {
     "name": "stdout",
     "output_type": "stream",
     "text": [
      "6450064600"
     ]
    },
    {
     "name": "stdout",
     "output_type": "stream",
     "text": [
      "64700"
     ]
    },
    {
     "name": "stdout",
     "output_type": "stream",
     "text": [
      "64800"
     ]
    },
    {
     "name": "stdout",
     "output_type": "stream",
     "text": [
      "6490065000"
     ]
    },
    {
     "name": "stdout",
     "output_type": "stream",
     "text": [
      "65100"
     ]
    },
    {
     "name": "stdout",
     "output_type": "stream",
     "text": [
      "65200"
     ]
    },
    {
     "name": "stdout",
     "output_type": "stream",
     "text": [
      "65300"
     ]
    },
    {
     "name": "stdout",
     "output_type": "stream",
     "text": [
      "65400"
     ]
    },
    {
     "name": "stdout",
     "output_type": "stream",
     "text": [
      "65500"
     ]
    },
    {
     "name": "stdout",
     "output_type": "stream",
     "text": [
      "6560065700"
     ]
    },
    {
     "name": "stdout",
     "output_type": "stream",
     "text": [
      "65800"
     ]
    },
    {
     "name": "stdout",
     "output_type": "stream",
     "text": [
      "6590066000"
     ]
    },
    {
     "name": "stdout",
     "output_type": "stream",
     "text": [
      "6610066200"
     ]
    },
    {
     "name": "stdout",
     "output_type": "stream",
     "text": [
      "66300"
     ]
    },
    {
     "name": "stdout",
     "output_type": "stream",
     "text": [
      "6640066500"
     ]
    },
    {
     "name": "stdout",
     "output_type": "stream",
     "text": [
      "66600"
     ]
    },
    {
     "name": "stdout",
     "output_type": "stream",
     "text": [
      "66700"
     ]
    },
    {
     "name": "stdout",
     "output_type": "stream",
     "text": [
      "6680066900"
     ]
    },
    {
     "name": "stdout",
     "output_type": "stream",
     "text": [
      "67000"
     ]
    },
    {
     "name": "stdout",
     "output_type": "stream",
     "text": [
      "6710067200"
     ]
    },
    {
     "name": "stdout",
     "output_type": "stream",
     "text": [
      "6730067400"
     ]
    },
    {
     "name": "stdout",
     "output_type": "stream",
     "text": [
      "67500"
     ]
    },
    {
     "name": "stdout",
     "output_type": "stream",
     "text": [
      "67600"
     ]
    },
    {
     "name": "stdout",
     "output_type": "stream",
     "text": [
      "6770067800"
     ]
    },
    {
     "name": "stdout",
     "output_type": "stream",
     "text": [
      "67900"
     ]
    },
    {
     "name": "stdout",
     "output_type": "stream",
     "text": [
      "68000"
     ]
    },
    {
     "name": "stdout",
     "output_type": "stream",
     "text": [
      "6810068200"
     ]
    },
    {
     "name": "stdout",
     "output_type": "stream",
     "text": [
      "6830068400"
     ]
    },
    {
     "name": "stdout",
     "output_type": "stream",
     "text": [
      "68500"
     ]
    },
    {
     "name": "stdout",
     "output_type": "stream",
     "text": [
      "6860068700"
     ]
    },
    {
     "name": "stdout",
     "output_type": "stream",
     "text": [
      "68800"
     ]
    },
    {
     "name": "stdout",
     "output_type": "stream",
     "text": [
      "6890069000"
     ]
    },
    {
     "name": "stdout",
     "output_type": "stream",
     "text": [
      "6910069200"
     ]
    },
    {
     "name": "stdout",
     "output_type": "stream",
     "text": [
      "69300"
     ]
    },
    {
     "name": "stdout",
     "output_type": "stream",
     "text": [
      "6940069500"
     ]
    },
    {
     "name": "stdout",
     "output_type": "stream",
     "text": [
      "6960069700"
     ]
    },
    {
     "name": "stdout",
     "output_type": "stream",
     "text": [
      "6980069900"
     ]
    },
    {
     "name": "stdout",
     "output_type": "stream",
     "text": [
      "70000"
     ]
    },
    {
     "name": "stdout",
     "output_type": "stream",
     "text": [
      "70100"
     ]
    },
    {
     "name": "stdout",
     "output_type": "stream",
     "text": [
      "7020070300"
     ]
    },
    {
     "name": "stdout",
     "output_type": "stream",
     "text": [
      "70400"
     ]
    },
    {
     "name": "stdout",
     "output_type": "stream",
     "text": [
      "7050070600"
     ]
    },
    {
     "name": "stdout",
     "output_type": "stream",
     "text": [
      "7070070800"
     ]
    },
    {
     "name": "stdout",
     "output_type": "stream",
     "text": [
      "70900"
     ]
    },
    {
     "name": "stdout",
     "output_type": "stream",
     "text": [
      "7100071100"
     ]
    },
    {
     "name": "stdout",
     "output_type": "stream",
     "text": [
      "71200"
     ]
    },
    {
     "name": "stdout",
     "output_type": "stream",
     "text": [
      "713007140071500"
     ]
    },
    {
     "name": "stdout",
     "output_type": "stream",
     "text": [
      "71600"
     ]
    },
    {
     "name": "stdout",
     "output_type": "stream",
     "text": [
      "71700"
     ]
    },
    {
     "name": "stdout",
     "output_type": "stream",
     "text": [
      "71800"
     ]
    },
    {
     "name": "stdout",
     "output_type": "stream",
     "text": [
      "7190072000"
     ]
    },
    {
     "name": "stdout",
     "output_type": "stream",
     "text": [
      "72100"
     ]
    },
    {
     "name": "stdout",
     "output_type": "stream",
     "text": [
      "7220072300"
     ]
    },
    {
     "name": "stdout",
     "output_type": "stream",
     "text": [
      "7240072500"
     ]
    },
    {
     "name": "stdout",
     "output_type": "stream",
     "text": [
      "72600"
     ]
    },
    {
     "name": "stdout",
     "output_type": "stream",
     "text": [
      "7270072800"
     ]
    },
    {
     "name": "stdout",
     "output_type": "stream",
     "text": [
      "72900"
     ]
    },
    {
     "name": "stdout",
     "output_type": "stream",
     "text": [
      "7300073100"
     ]
    },
    {
     "name": "stdout",
     "output_type": "stream",
     "text": [
      "73200"
     ]
    },
    {
     "name": "stdout",
     "output_type": "stream",
     "text": [
      "73300"
     ]
    },
    {
     "name": "stdout",
     "output_type": "stream",
     "text": [
      "73400"
     ]
    },
    {
     "name": "stdout",
     "output_type": "stream",
     "text": [
      "73500"
     ]
    },
    {
     "name": "stdout",
     "output_type": "stream",
     "text": [
      "73600"
     ]
    },
    {
     "name": "stdout",
     "output_type": "stream",
     "text": [
      "73700"
     ]
    },
    {
     "name": "stdout",
     "output_type": "stream",
     "text": [
      "73800"
     ]
    },
    {
     "name": "stdout",
     "output_type": "stream",
     "text": [
      "7390074000"
     ]
    },
    {
     "name": "stdout",
     "output_type": "stream",
     "text": [
      "74100"
     ]
    },
    {
     "name": "stdout",
     "output_type": "stream",
     "text": [
      "7420074300"
     ]
    },
    {
     "name": "stdout",
     "output_type": "stream",
     "text": [
      "74400"
     ]
    },
    {
     "name": "stdout",
     "output_type": "stream",
     "text": [
      "7450074600"
     ]
    },
    {
     "name": "stdout",
     "output_type": "stream",
     "text": [
      "74700"
     ]
    },
    {
     "name": "stdout",
     "output_type": "stream",
     "text": [
      "7480074900"
     ]
    },
    {
     "name": "stdout",
     "output_type": "stream",
     "text": [
      "75000"
     ]
    },
    {
     "name": "stdout",
     "output_type": "stream",
     "text": [
      "75100"
     ]
    },
    {
     "name": "stdout",
     "output_type": "stream",
     "text": [
      "7520075300"
     ]
    },
    {
     "name": "stdout",
     "output_type": "stream",
     "text": [
      "75400"
     ]
    },
    {
     "name": "stdout",
     "output_type": "stream",
     "text": [
      "75500"
     ]
    },
    {
     "name": "stdout",
     "output_type": "stream",
     "text": [
      "75600"
     ]
    },
    {
     "name": "stdout",
     "output_type": "stream",
     "text": [
      "7570075800"
     ]
    },
    {
     "name": "stdout",
     "output_type": "stream",
     "text": [
      "7590076000"
     ]
    },
    {
     "name": "stdout",
     "output_type": "stream",
     "text": [
      "7610076200"
     ]
    },
    {
     "name": "stdout",
     "output_type": "stream",
     "text": [
      "76300"
     ]
    },
    {
     "name": "stdout",
     "output_type": "stream",
     "text": [
      "7640076500"
     ]
    },
    {
     "name": "stdout",
     "output_type": "stream",
     "text": [
      "76600"
     ]
    },
    {
     "name": "stdout",
     "output_type": "stream",
     "text": [
      "76700"
     ]
    },
    {
     "name": "stdout",
     "output_type": "stream",
     "text": [
      "76800"
     ]
    },
    {
     "name": "stdout",
     "output_type": "stream",
     "text": [
      "7690077000"
     ]
    },
    {
     "name": "stdout",
     "output_type": "stream",
     "text": [
      "7710077200"
     ]
    },
    {
     "name": "stdout",
     "output_type": "stream",
     "text": [
      "77300"
     ]
    },
    {
     "name": "stdout",
     "output_type": "stream",
     "text": [
      "77400"
     ]
    },
    {
     "name": "stdout",
     "output_type": "stream",
     "text": [
      "77500"
     ]
    },
    {
     "name": "stdout",
     "output_type": "stream",
     "text": [
      "7760077700"
     ]
    },
    {
     "name": "stdout",
     "output_type": "stream",
     "text": [
      "77800"
     ]
    },
    {
     "name": "stdout",
     "output_type": "stream",
     "text": [
      "77900"
     ]
    },
    {
     "name": "stdout",
     "output_type": "stream",
     "text": [
      "7800078100"
     ]
    },
    {
     "name": "stdout",
     "output_type": "stream",
     "text": [
      "78200"
     ]
    },
    {
     "name": "stdout",
     "output_type": "stream",
     "text": [
      "78300"
     ]
    },
    {
     "name": "stdout",
     "output_type": "stream",
     "text": [
      "7840078500"
     ]
    },
    {
     "name": "stdout",
     "output_type": "stream",
     "text": [
      "78600"
     ]
    },
    {
     "name": "stdout",
     "output_type": "stream",
     "text": [
      "78700"
     ]
    },
    {
     "name": "stdout",
     "output_type": "stream",
     "text": [
      "7880078900"
     ]
    },
    {
     "name": "stdout",
     "output_type": "stream",
     "text": [
      "7900079100"
     ]
    },
    {
     "name": "stdout",
     "output_type": "stream",
     "text": [
      "7920079300"
     ]
    },
    {
     "name": "stdout",
     "output_type": "stream",
     "text": [
      "7940079500"
     ]
    },
    {
     "name": "stdout",
     "output_type": "stream",
     "text": [
      "7960079700"
     ]
    },
    {
     "name": "stdout",
     "output_type": "stream",
     "text": [
      "79800"
     ]
    },
    {
     "name": "stdout",
     "output_type": "stream",
     "text": [
      "7990080000"
     ]
    },
    {
     "name": "stdout",
     "output_type": "stream",
     "text": [
      "80100"
     ]
    },
    {
     "name": "stdout",
     "output_type": "stream",
     "text": [
      "8020080300"
     ]
    },
    {
     "name": "stdout",
     "output_type": "stream",
     "text": [
      "8040080500"
     ]
    },
    {
     "name": "stdout",
     "output_type": "stream",
     "text": [
      "80600"
     ]
    },
    {
     "name": "stdout",
     "output_type": "stream",
     "text": [
      "8070080800"
     ]
    },
    {
     "name": "stdout",
     "output_type": "stream",
     "text": [
      "8090081000"
     ]
    },
    {
     "name": "stdout",
     "output_type": "stream",
     "text": [
      "81100"
     ]
    },
    {
     "name": "stdout",
     "output_type": "stream",
     "text": [
      "81200"
     ]
    },
    {
     "name": "stdout",
     "output_type": "stream",
     "text": [
      "81300"
     ]
    },
    {
     "name": "stdout",
     "output_type": "stream",
     "text": [
      "81400"
     ]
    },
    {
     "name": "stdout",
     "output_type": "stream",
     "text": [
      "8150081600"
     ]
    },
    {
     "name": "stdout",
     "output_type": "stream",
     "text": [
      "81700"
     ]
    },
    {
     "name": "stdout",
     "output_type": "stream",
     "text": [
      "81800"
     ]
    },
    {
     "name": "stdout",
     "output_type": "stream",
     "text": [
      "81900"
     ]
    },
    {
     "name": "stdout",
     "output_type": "stream",
     "text": [
      "82000"
     ]
    },
    {
     "name": "stdout",
     "output_type": "stream",
     "text": [
      "8210082200"
     ]
    },
    {
     "name": "stdout",
     "output_type": "stream",
     "text": [
      "8230082400"
     ]
    },
    {
     "name": "stdout",
     "output_type": "stream",
     "text": [
      "8250082600"
     ]
    },
    {
     "name": "stdout",
     "output_type": "stream",
     "text": [
      "82700"
     ]
    },
    {
     "name": "stdout",
     "output_type": "stream",
     "text": [
      "82800"
     ]
    },
    {
     "name": "stdout",
     "output_type": "stream",
     "text": [
      "8290083000"
     ]
    },
    {
     "name": "stdout",
     "output_type": "stream",
     "text": [
      "8310083200"
     ]
    },
    {
     "name": "stdout",
     "output_type": "stream",
     "text": [
      "83300"
     ]
    },
    {
     "name": "stdout",
     "output_type": "stream",
     "text": [
      "8340083500"
     ]
    },
    {
     "name": "stdout",
     "output_type": "stream",
     "text": [
      "83600"
     ]
    },
    {
     "name": "stdout",
     "output_type": "stream",
     "text": [
      "83700"
     ]
    },
    {
     "name": "stdout",
     "output_type": "stream",
     "text": [
      "8380083900"
     ]
    },
    {
     "name": "stdout",
     "output_type": "stream",
     "text": [
      "84000"
     ]
    },
    {
     "name": "stdout",
     "output_type": "stream",
     "text": [
      "8410084200"
     ]
    },
    {
     "name": "stdout",
     "output_type": "stream",
     "text": [
      "84300"
     ]
    },
    {
     "name": "stdout",
     "output_type": "stream",
     "text": [
      "84400"
     ]
    },
    {
     "name": "stdout",
     "output_type": "stream",
     "text": [
      "8450084600"
     ]
    },
    {
     "name": "stdout",
     "output_type": "stream",
     "text": [
      "847008480084900"
     ]
    },
    {
     "name": "stdout",
     "output_type": "stream",
     "text": [
      "85000"
     ]
    },
    {
     "name": "stdout",
     "output_type": "stream",
     "text": [
      "85100"
     ]
    },
    {
     "name": "stdout",
     "output_type": "stream",
     "text": [
      "85200"
     ]
    },
    {
     "name": "stdout",
     "output_type": "stream",
     "text": [
      "8530085400"
     ]
    },
    {
     "name": "stdout",
     "output_type": "stream",
     "text": [
      "85500"
     ]
    },
    {
     "name": "stdout",
     "output_type": "stream",
     "text": [
      "85600"
     ]
    },
    {
     "name": "stdout",
     "output_type": "stream",
     "text": [
      "8570085800"
     ]
    },
    {
     "name": "stdout",
     "output_type": "stream",
     "text": [
      "85900"
     ]
    },
    {
     "name": "stdout",
     "output_type": "stream",
     "text": [
      "8600086100"
     ]
    },
    {
     "name": "stdout",
     "output_type": "stream",
     "text": [
      "8620086300"
     ]
    },
    {
     "name": "stdout",
     "output_type": "stream",
     "text": [
      "86400"
     ]
    },
    {
     "name": "stdout",
     "output_type": "stream",
     "text": [
      "8650086600"
     ]
    },
    {
     "name": "stdout",
     "output_type": "stream",
     "text": [
      "8670086800"
     ]
    },
    {
     "name": "stdout",
     "output_type": "stream",
     "text": [
      "86900"
     ]
    },
    {
     "name": "stdout",
     "output_type": "stream",
     "text": [
      "870008710087200"
     ]
    },
    {
     "name": "stdout",
     "output_type": "stream",
     "text": [
      "8730087400"
     ]
    },
    {
     "name": "stdout",
     "output_type": "stream",
     "text": [
      "87500"
     ]
    },
    {
     "name": "stdout",
     "output_type": "stream",
     "text": [
      "8760087700"
     ]
    },
    {
     "name": "stdout",
     "output_type": "stream",
     "text": [
      "8780087900"
     ]
    },
    {
     "name": "stdout",
     "output_type": "stream",
     "text": [
      "88000"
     ]
    },
    {
     "name": "stdout",
     "output_type": "stream",
     "text": [
      "8810088200"
     ]
    },
    {
     "name": "stdout",
     "output_type": "stream",
     "text": [
      "88300"
     ]
    },
    {
     "name": "stdout",
     "output_type": "stream",
     "text": [
      "8840088500"
     ]
    },
    {
     "name": "stdout",
     "output_type": "stream",
     "text": [
      "88600"
     ]
    },
    {
     "name": "stdout",
     "output_type": "stream",
     "text": [
      "8870088800"
     ]
    },
    {
     "name": "stdout",
     "output_type": "stream",
     "text": [
      "88900"
     ]
    },
    {
     "name": "stdout",
     "output_type": "stream",
     "text": [
      "89000"
     ]
    },
    {
     "name": "stdout",
     "output_type": "stream",
     "text": [
      "89100"
     ]
    },
    {
     "name": "stdout",
     "output_type": "stream",
     "text": [
      "89200"
     ]
    },
    {
     "name": "stdout",
     "output_type": "stream",
     "text": [
      "893008940089500"
     ]
    },
    {
     "name": "stdout",
     "output_type": "stream",
     "text": [
      "89600"
     ]
    },
    {
     "name": "stdout",
     "output_type": "stream",
     "text": [
      "89700"
     ]
    },
    {
     "name": "stdout",
     "output_type": "stream",
     "text": [
      "8980089900"
     ]
    },
    {
     "name": "stdout",
     "output_type": "stream",
     "text": [
      "90000"
     ]
    },
    {
     "name": "stdout",
     "output_type": "stream",
     "text": [
      "9010090200"
     ]
    },
    {
     "name": "stdout",
     "output_type": "stream",
     "text": [
      "9030090400"
     ]
    },
    {
     "name": "stdout",
     "output_type": "stream",
     "text": [
      "9050090600"
     ]
    },
    {
     "name": "stdout",
     "output_type": "stream",
     "text": [
      "9070090800"
     ]
    },
    {
     "name": "stdout",
     "output_type": "stream",
     "text": [
      "90900"
     ]
    },
    {
     "name": "stdout",
     "output_type": "stream",
     "text": [
      "9100091100"
     ]
    },
    {
     "name": "stdout",
     "output_type": "stream",
     "text": [
      "9120091300"
     ]
    },
    {
     "name": "stdout",
     "output_type": "stream",
     "text": [
      "91400"
     ]
    },
    {
     "name": "stdout",
     "output_type": "stream",
     "text": [
      "9150091600"
     ]
    },
    {
     "name": "stdout",
     "output_type": "stream",
     "text": [
      "91700"
     ]
    },
    {
     "name": "stdout",
     "output_type": "stream",
     "text": [
      "91800"
     ]
    },
    {
     "name": "stdout",
     "output_type": "stream",
     "text": [
      "9190092000"
     ]
    },
    {
     "name": "stdout",
     "output_type": "stream",
     "text": [
      "9210092200"
     ]
    },
    {
     "name": "stdout",
     "output_type": "stream",
     "text": [
      "92300"
     ]
    },
    {
     "name": "stdout",
     "output_type": "stream",
     "text": [
      "92400"
     ]
    },
    {
     "name": "stdout",
     "output_type": "stream",
     "text": [
      "9250092600"
     ]
    },
    {
     "name": "stdout",
     "output_type": "stream",
     "text": [
      "92700"
     ]
    },
    {
     "name": "stdout",
     "output_type": "stream",
     "text": [
      "9280092900"
     ]
    },
    {
     "name": "stdout",
     "output_type": "stream",
     "text": [
      "93000"
     ]
    },
    {
     "name": "stdout",
     "output_type": "stream",
     "text": [
      "9310093200"
     ]
    },
    {
     "name": "stdout",
     "output_type": "stream",
     "text": [
      "93300"
     ]
    },
    {
     "name": "stdout",
     "output_type": "stream",
     "text": [
      "9340093500"
     ]
    },
    {
     "name": "stdout",
     "output_type": "stream",
     "text": [
      "93600"
     ]
    },
    {
     "name": "stdout",
     "output_type": "stream",
     "text": [
      "9370093800"
     ]
    },
    {
     "name": "stdout",
     "output_type": "stream",
     "text": [
      "9390094000"
     ]
    },
    {
     "name": "stdout",
     "output_type": "stream",
     "text": [
      "94100"
     ]
    },
    {
     "name": "stdout",
     "output_type": "stream",
     "text": [
      "9420094300"
     ]
    },
    {
     "name": "stdout",
     "output_type": "stream",
     "text": [
      "94400"
     ]
    },
    {
     "name": "stdout",
     "output_type": "stream",
     "text": [
      "94500"
     ]
    },
    {
     "name": "stdout",
     "output_type": "stream",
     "text": [
      "9460094700"
     ]
    },
    {
     "name": "stdout",
     "output_type": "stream",
     "text": [
      "9480094900"
     ]
    },
    {
     "name": "stdout",
     "output_type": "stream",
     "text": [
      "9500095100"
     ]
    },
    {
     "name": "stdout",
     "output_type": "stream",
     "text": [
      "95200"
     ]
    },
    {
     "name": "stdout",
     "output_type": "stream",
     "text": [
      "95300"
     ]
    },
    {
     "name": "stdout",
     "output_type": "stream",
     "text": [
      "9540095500"
     ]
    },
    {
     "name": "stdout",
     "output_type": "stream",
     "text": [
      "9560095700"
     ]
    },
    {
     "name": "stdout",
     "output_type": "stream",
     "text": [
      "95800"
     ]
    },
    {
     "name": "stdout",
     "output_type": "stream",
     "text": [
      "95900"
     ]
    },
    {
     "name": "stdout",
     "output_type": "stream",
     "text": [
      "96000"
     ]
    },
    {
     "name": "stdout",
     "output_type": "stream",
     "text": [
      "96100"
     ]
    },
    {
     "name": "stdout",
     "output_type": "stream",
     "text": [
      "9620096300"
     ]
    },
    {
     "name": "stdout",
     "output_type": "stream",
     "text": [
      "9640096500"
     ]
    },
    {
     "name": "stdout",
     "output_type": "stream",
     "text": [
      "9660096700"
     ]
    },
    {
     "name": "stdout",
     "output_type": "stream",
     "text": [
      "96800"
     ]
    },
    {
     "name": "stdout",
     "output_type": "stream",
     "text": [
      "9690097000"
     ]
    },
    {
     "name": "stdout",
     "output_type": "stream",
     "text": [
      "9710097200"
     ]
    },
    {
     "name": "stdout",
     "output_type": "stream",
     "text": [
      "97300"
     ]
    },
    {
     "name": "stdout",
     "output_type": "stream",
     "text": [
      "9740097500"
     ]
    },
    {
     "name": "stdout",
     "output_type": "stream",
     "text": [
      "97600"
     ]
    },
    {
     "name": "stdout",
     "output_type": "stream",
     "text": [
      "9770097800"
     ]
    },
    {
     "name": "stdout",
     "output_type": "stream",
     "text": [
      "97900"
     ]
    },
    {
     "name": "stdout",
     "output_type": "stream",
     "text": [
      "9800098100"
     ]
    },
    {
     "name": "stdout",
     "output_type": "stream",
     "text": [
      "9820098300"
     ]
    },
    {
     "name": "stdout",
     "output_type": "stream",
     "text": [
      "98400"
     ]
    },
    {
     "name": "stdout",
     "output_type": "stream",
     "text": [
      "98500"
     ]
    },
    {
     "name": "stdout",
     "output_type": "stream",
     "text": [
      "98600"
     ]
    },
    {
     "name": "stdout",
     "output_type": "stream",
     "text": [
      "98700"
     ]
    },
    {
     "name": "stdout",
     "output_type": "stream",
     "text": [
      "988009890099000"
     ]
    },
    {
     "name": "stdout",
     "output_type": "stream",
     "text": [
      "99100"
     ]
    },
    {
     "name": "stdout",
     "output_type": "stream",
     "text": [
      "9920099300"
     ]
    },
    {
     "name": "stdout",
     "output_type": "stream",
     "text": [
      "99400"
     ]
    },
    {
     "name": "stdout",
     "output_type": "stream",
     "text": [
      "9950099600"
     ]
    },
    {
     "name": "stdout",
     "output_type": "stream",
     "text": [
      "99700"
     ]
    },
    {
     "name": "stdout",
     "output_type": "stream",
     "text": [
      "9980099900"
     ]
    },
    {
     "name": "stdout",
     "output_type": "stream",
     "text": [
      "100000"
     ]
    },
    {
     "name": "stdout",
     "output_type": "stream",
     "text": [
      "100"
     ]
    },
    {
     "name": "stdout",
     "output_type": "stream",
     "text": [
      "200300"
     ]
    },
    {
     "name": "stdout",
     "output_type": "stream",
     "text": [
      "400500"
     ]
    },
    {
     "name": "stdout",
     "output_type": "stream",
     "text": [
      "600"
     ]
    },
    {
     "name": "stdout",
     "output_type": "stream",
     "text": [
      "700"
     ]
    },
    {
     "name": "stdout",
     "output_type": "stream",
     "text": [
      "800900"
     ]
    },
    {
     "name": "stdout",
     "output_type": "stream",
     "text": [
      "1000"
     ]
    },
    {
     "name": "stdout",
     "output_type": "stream",
     "text": [
      "11001200"
     ]
    },
    {
     "name": "stdout",
     "output_type": "stream",
     "text": [
      "1300"
     ]
    },
    {
     "name": "stdout",
     "output_type": "stream",
     "text": [
      "14001500"
     ]
    },
    {
     "name": "stdout",
     "output_type": "stream",
     "text": [
      "1600"
     ]
    },
    {
     "name": "stdout",
     "output_type": "stream",
     "text": [
      "17001800"
     ]
    },
    {
     "name": "stdout",
     "output_type": "stream",
     "text": [
      "1900"
     ]
    },
    {
     "name": "stdout",
     "output_type": "stream",
     "text": [
      "20002100"
     ]
    },
    {
     "name": "stdout",
     "output_type": "stream",
     "text": [
      "22002300"
     ]
    },
    {
     "name": "stdout",
     "output_type": "stream",
     "text": [
      "2400"
     ]
    },
    {
     "name": "stdout",
     "output_type": "stream",
     "text": [
      "2500"
     ]
    },
    {
     "name": "stdout",
     "output_type": "stream",
     "text": [
      "2600"
     ]
    },
    {
     "name": "stdout",
     "output_type": "stream",
     "text": [
      "27002800"
     ]
    },
    {
     "name": "stdout",
     "output_type": "stream",
     "text": [
      "2900"
     ]
    },
    {
     "name": "stdout",
     "output_type": "stream",
     "text": [
      "30003100"
     ]
    },
    {
     "name": "stdout",
     "output_type": "stream",
     "text": [
      "3200"
     ]
    },
    {
     "name": "stdout",
     "output_type": "stream",
     "text": [
      "33003400"
     ]
    },
    {
     "name": "stdout",
     "output_type": "stream",
     "text": [
      "3500"
     ]
    },
    {
     "name": "stdout",
     "output_type": "stream",
     "text": [
      "3600"
     ]
    },
    {
     "name": "stdout",
     "output_type": "stream",
     "text": [
      "3700"
     ]
    },
    {
     "name": "stdout",
     "output_type": "stream",
     "text": [
      "38003900"
     ]
    },
    {
     "name": "stdout",
     "output_type": "stream",
     "text": [
      "4000"
     ]
    },
    {
     "name": "stdout",
     "output_type": "stream",
     "text": [
      "41004200"
     ]
    },
    {
     "name": "stdout",
     "output_type": "stream",
     "text": [
      "4300"
     ]
    },
    {
     "name": "stdout",
     "output_type": "stream",
     "text": [
      "4400"
     ]
    },
    {
     "name": "stdout",
     "output_type": "stream",
     "text": [
      "45004600"
     ]
    },
    {
     "name": "stdout",
     "output_type": "stream",
     "text": [
      "4700"
     ]
    },
    {
     "name": "stdout",
     "output_type": "stream",
     "text": [
      "48004900"
     ]
    },
    {
     "name": "stdout",
     "output_type": "stream",
     "text": [
      "50005100"
     ]
    },
    {
     "name": "stdout",
     "output_type": "stream",
     "text": [
      "5200"
     ]
    },
    {
     "name": "stdout",
     "output_type": "stream",
     "text": [
      "53005400"
     ]
    },
    {
     "name": "stdout",
     "output_type": "stream",
     "text": [
      "55005600"
     ]
    },
    {
     "name": "stdout",
     "output_type": "stream",
     "text": [
      "57005800"
     ]
    },
    {
     "name": "stdout",
     "output_type": "stream",
     "text": [
      "5900"
     ]
    },
    {
     "name": "stdout",
     "output_type": "stream",
     "text": [
      "6000"
     ]
    },
    {
     "name": "stdout",
     "output_type": "stream",
     "text": [
      "61006200"
     ]
    },
    {
     "name": "stdout",
     "output_type": "stream",
     "text": [
      "6300"
     ]
    },
    {
     "name": "stdout",
     "output_type": "stream",
     "text": [
      "6400"
     ]
    },
    {
     "name": "stdout",
     "output_type": "stream",
     "text": [
      "65006600"
     ]
    },
    {
     "name": "stdout",
     "output_type": "stream",
     "text": [
      "67006800"
     ]
    },
    {
     "name": "stdout",
     "output_type": "stream",
     "text": [
      "6900"
     ]
    },
    {
     "name": "stdout",
     "output_type": "stream",
     "text": [
      "7000"
     ]
    },
    {
     "name": "stdout",
     "output_type": "stream",
     "text": [
      "71007200"
     ]
    },
    {
     "name": "stdout",
     "output_type": "stream",
     "text": [
      "7300"
     ]
    },
    {
     "name": "stdout",
     "output_type": "stream",
     "text": [
      "7400"
     ]
    },
    {
     "name": "stdout",
     "output_type": "stream",
     "text": [
      "7500"
     ]
    },
    {
     "name": "stdout",
     "output_type": "stream",
     "text": [
      "76007700"
     ]
    },
    {
     "name": "stdout",
     "output_type": "stream",
     "text": [
      "7800"
     ]
    },
    {
     "name": "stdout",
     "output_type": "stream",
     "text": [
      "79008000"
     ]
    },
    {
     "name": "stdout",
     "output_type": "stream",
     "text": [
      "8100"
     ]
    },
    {
     "name": "stdout",
     "output_type": "stream",
     "text": [
      "82008300"
     ]
    },
    {
     "name": "stdout",
     "output_type": "stream",
     "text": [
      "84008500"
     ]
    },
    {
     "name": "stdout",
     "output_type": "stream",
     "text": [
      "8600"
     ]
    },
    {
     "name": "stdout",
     "output_type": "stream",
     "text": [
      "87008800"
     ]
    },
    {
     "name": "stdout",
     "output_type": "stream",
     "text": [
      "8900"
     ]
    },
    {
     "name": "stdout",
     "output_type": "stream",
     "text": [
      "9000"
     ]
    },
    {
     "name": "stdout",
     "output_type": "stream",
     "text": [
      "91009200"
     ]
    },
    {
     "name": "stdout",
     "output_type": "stream",
     "text": [
      "9300"
     ]
    },
    {
     "name": "stdout",
     "output_type": "stream",
     "text": [
      "9400"
     ]
    },
    {
     "name": "stdout",
     "output_type": "stream",
     "text": [
      "95009600"
     ]
    },
    {
     "name": "stdout",
     "output_type": "stream",
     "text": [
      "97009800"
     ]
    },
    {
     "name": "stdout",
     "output_type": "stream",
     "text": [
      "9900"
     ]
    },
    {
     "name": "stdout",
     "output_type": "stream",
     "text": [
      "1000010100"
     ]
    },
    {
     "name": "stdout",
     "output_type": "stream",
     "text": [
      "102001030010400"
     ]
    },
    {
     "name": "stdout",
     "output_type": "stream",
     "text": [
      "10500"
     ]
    },
    {
     "name": "stdout",
     "output_type": "stream",
     "text": [
      "10600"
     ]
    },
    {
     "name": "stdout",
     "output_type": "stream",
     "text": [
      "1070010800"
     ]
    },
    {
     "name": "stdout",
     "output_type": "stream",
     "text": [
      "10900"
     ]
    },
    {
     "name": "stdout",
     "output_type": "stream",
     "text": [
      "1100011100"
     ]
    },
    {
     "name": "stdout",
     "output_type": "stream",
     "text": [
      "11200"
     ]
    },
    {
     "name": "stdout",
     "output_type": "stream",
     "text": [
      "1130011400"
     ]
    },
    {
     "name": "stdout",
     "output_type": "stream",
     "text": [
      "11500"
     ]
    },
    {
     "name": "stdout",
     "output_type": "stream",
     "text": [
      "11600"
     ]
    },
    {
     "name": "stdout",
     "output_type": "stream",
     "text": [
      "11700"
     ]
    },
    {
     "name": "stdout",
     "output_type": "stream",
     "text": [
      "11800"
     ]
    },
    {
     "name": "stdout",
     "output_type": "stream",
     "text": [
      "1190012000"
     ]
    },
    {
     "name": "stdout",
     "output_type": "stream",
     "text": [
      "12100"
     ]
    },
    {
     "name": "stdout",
     "output_type": "stream",
     "text": [
      "1220012300"
     ]
    },
    {
     "name": "stdout",
     "output_type": "stream",
     "text": [
      "12400"
     ]
    },
    {
     "name": "stdout",
     "output_type": "stream",
     "text": [
      "1250012600"
     ]
    },
    {
     "name": "stdout",
     "output_type": "stream",
     "text": [
      "127001280012900"
     ]
    },
    {
     "name": "stdout",
     "output_type": "stream",
     "text": [
      "13000"
     ]
    },
    {
     "name": "stdout",
     "output_type": "stream",
     "text": [
      "13100"
     ]
    },
    {
     "name": "stdout",
     "output_type": "stream",
     "text": [
      "1320013300"
     ]
    },
    {
     "name": "stdout",
     "output_type": "stream",
     "text": [
      "13400"
     ]
    },
    {
     "name": "stdout",
     "output_type": "stream",
     "text": [
      "1350013600"
     ]
    },
    {
     "name": "stdout",
     "output_type": "stream",
     "text": [
      "13700"
     ]
    },
    {
     "name": "stdout",
     "output_type": "stream",
     "text": [
      "13800"
     ]
    },
    {
     "name": "stdout",
     "output_type": "stream",
     "text": [
      "1390014000"
     ]
    },
    {
     "name": "stdout",
     "output_type": "stream",
     "text": [
      "14100"
     ]
    },
    {
     "name": "stdout",
     "output_type": "stream",
     "text": [
      "1420014300"
     ]
    },
    {
     "name": "stdout",
     "output_type": "stream",
     "text": [
      "14400"
     ]
    },
    {
     "name": "stdout",
     "output_type": "stream",
     "text": [
      "14500"
     ]
    },
    {
     "name": "stdout",
     "output_type": "stream",
     "text": [
      "1460014700"
     ]
    },
    {
     "name": "stdout",
     "output_type": "stream",
     "text": [
      "148001490015000"
     ]
    },
    {
     "name": "stdout",
     "output_type": "stream",
     "text": [
      "15100"
     ]
    },
    {
     "name": "stdout",
     "output_type": "stream",
     "text": [
      "15200"
     ]
    },
    {
     "name": "stdout",
     "output_type": "stream",
     "text": [
      "1530015400"
     ]
    },
    {
     "name": "stdout",
     "output_type": "stream",
     "text": [
      "15500"
     ]
    },
    {
     "name": "stdout",
     "output_type": "stream",
     "text": [
      "1560015700"
     ]
    },
    {
     "name": "stdout",
     "output_type": "stream",
     "text": [
      "15800"
     ]
    },
    {
     "name": "stdout",
     "output_type": "stream",
     "text": [
      "15900"
     ]
    },
    {
     "name": "stdout",
     "output_type": "stream",
     "text": [
      "16000"
     ]
    },
    {
     "name": "stdout",
     "output_type": "stream",
     "text": [
      "1610016200"
     ]
    },
    {
     "name": "stdout",
     "output_type": "stream",
     "text": [
      "1630016400"
     ]
    },
    {
     "name": "stdout",
     "output_type": "stream",
     "text": [
      "1650016600"
     ]
    },
    {
     "name": "stdout",
     "output_type": "stream",
     "text": [
      "16700"
     ]
    },
    {
     "name": "stdout",
     "output_type": "stream",
     "text": [
      "16800"
     ]
    },
    {
     "name": "stdout",
     "output_type": "stream",
     "text": [
      "16900"
     ]
    },
    {
     "name": "stdout",
     "output_type": "stream",
     "text": [
      "170001710017200"
     ]
    },
    {
     "name": "stdout",
     "output_type": "stream",
     "text": [
      "17300"
     ]
    },
    {
     "name": "stdout",
     "output_type": "stream",
     "text": [
      "17400"
     ]
    },
    {
     "name": "stdout",
     "output_type": "stream",
     "text": [
      "17500"
     ]
    },
    {
     "name": "stdout",
     "output_type": "stream",
     "text": [
      "1760017700"
     ]
    },
    {
     "name": "stdout",
     "output_type": "stream",
     "text": [
      "17800"
     ]
    },
    {
     "name": "stdout",
     "output_type": "stream",
     "text": [
      "17900"
     ]
    },
    {
     "name": "stdout",
     "output_type": "stream",
     "text": [
      "18000"
     ]
    },
    {
     "name": "stdout",
     "output_type": "stream",
     "text": [
      "1810018200"
     ]
    },
    {
     "name": "stdout",
     "output_type": "stream",
     "text": [
      "1830018400"
     ]
    },
    {
     "name": "stdout",
     "output_type": "stream",
     "text": [
      "1850018600"
     ]
    },
    {
     "name": "stdout",
     "output_type": "stream",
     "text": [
      "1870018800"
     ]
    },
    {
     "name": "stdout",
     "output_type": "stream",
     "text": [
      "18900"
     ]
    },
    {
     "name": "stdout",
     "output_type": "stream",
     "text": [
      "19000"
     ]
    },
    {
     "name": "stdout",
     "output_type": "stream",
     "text": [
      "1910019200"
     ]
    },
    {
     "name": "stdout",
     "output_type": "stream",
     "text": [
      "19300"
     ]
    },
    {
     "name": "stdout",
     "output_type": "stream",
     "text": [
      "19400"
     ]
    },
    {
     "name": "stdout",
     "output_type": "stream",
     "text": [
      "1950019600"
     ]
    },
    {
     "name": "stdout",
     "output_type": "stream",
     "text": [
      "19700"
     ]
    },
    {
     "name": "stdout",
     "output_type": "stream",
     "text": [
      "1980019900"
     ]
    },
    {
     "name": "stdout",
     "output_type": "stream",
     "text": [
      "2000020100"
     ]
    },
    {
     "name": "stdout",
     "output_type": "stream",
     "text": [
      "2020020300"
     ]
    },
    {
     "name": "stdout",
     "output_type": "stream",
     "text": [
      "2040020500"
     ]
    },
    {
     "name": "stdout",
     "output_type": "stream",
     "text": [
      "20600"
     ]
    },
    {
     "name": "stdout",
     "output_type": "stream",
     "text": [
      "2070020800"
     ]
    },
    {
     "name": "stdout",
     "output_type": "stream",
     "text": [
      "2090021000"
     ]
    },
    {
     "name": "stdout",
     "output_type": "stream",
     "text": [
      "21100"
     ]
    },
    {
     "name": "stdout",
     "output_type": "stream",
     "text": [
      "2120021300"
     ]
    },
    {
     "name": "stdout",
     "output_type": "stream",
     "text": [
      "21400"
     ]
    },
    {
     "name": "stdout",
     "output_type": "stream",
     "text": [
      "21500"
     ]
    },
    {
     "name": "stdout",
     "output_type": "stream",
     "text": [
      "21600"
     ]
    },
    {
     "name": "stdout",
     "output_type": "stream",
     "text": [
      "2170021800"
     ]
    },
    {
     "name": "stdout",
     "output_type": "stream",
     "text": [
      "21900"
     ]
    },
    {
     "name": "stdout",
     "output_type": "stream",
     "text": [
      "22000"
     ]
    },
    {
     "name": "stdout",
     "output_type": "stream",
     "text": [
      "22100"
     ]
    },
    {
     "name": "stdout",
     "output_type": "stream",
     "text": [
      "2220022300"
     ]
    },
    {
     "name": "stdout",
     "output_type": "stream",
     "text": [
      "2240022500"
     ]
    },
    {
     "name": "stdout",
     "output_type": "stream",
     "text": [
      "22600"
     ]
    },
    {
     "name": "stdout",
     "output_type": "stream",
     "text": [
      "22700"
     ]
    },
    {
     "name": "stdout",
     "output_type": "stream",
     "text": [
      "2280022900"
     ]
    },
    {
     "name": "stdout",
     "output_type": "stream",
     "text": [
      "23000"
     ]
    },
    {
     "name": "stdout",
     "output_type": "stream",
     "text": [
      "2310023200"
     ]
    },
    {
     "name": "stdout",
     "output_type": "stream",
     "text": [
      "2330023400"
     ]
    },
    {
     "name": "stdout",
     "output_type": "stream",
     "text": [
      "2350023600"
     ]
    },
    {
     "name": "stdout",
     "output_type": "stream",
     "text": [
      "2370023800"
     ]
    },
    {
     "name": "stdout",
     "output_type": "stream",
     "text": [
      "23900"
     ]
    },
    {
     "name": "stdout",
     "output_type": "stream",
     "text": [
      "2400024100"
     ]
    },
    {
     "name": "stdout",
     "output_type": "stream",
     "text": [
      "242002430024400"
     ]
    },
    {
     "name": "stdout",
     "output_type": "stream",
     "text": [
      "2450024600"
     ]
    },
    {
     "name": "stdout",
     "output_type": "stream",
     "text": [
      "24700"
     ]
    },
    {
     "name": "stdout",
     "output_type": "stream",
     "text": [
      "24800"
     ]
    },
    {
     "name": "stdout",
     "output_type": "stream",
     "text": [
      "2490025000"
     ]
    },
    {
     "name": "stdout",
     "output_type": "stream",
     "text": [
      "25100"
     ]
    },
    {
     "name": "stdout",
     "output_type": "stream",
     "text": [
      "25200"
     ]
    },
    {
     "name": "stdout",
     "output_type": "stream",
     "text": [
      "25300"
     ]
    },
    {
     "name": "stdout",
     "output_type": "stream",
     "text": [
      "25400"
     ]
    },
    {
     "name": "stdout",
     "output_type": "stream",
     "text": [
      "2550025600"
     ]
    },
    {
     "name": "stdout",
     "output_type": "stream",
     "text": [
      "2570025800"
     ]
    },
    {
     "name": "stdout",
     "output_type": "stream",
     "text": [
      "25900"
     ]
    },
    {
     "name": "stdout",
     "output_type": "stream",
     "text": [
      "2600026100"
     ]
    },
    {
     "name": "stdout",
     "output_type": "stream",
     "text": [
      "26200"
     ]
    },
    {
     "name": "stdout",
     "output_type": "stream",
     "text": [
      "26300"
     ]
    },
    {
     "name": "stdout",
     "output_type": "stream",
     "text": [
      "2640026500"
     ]
    },
    {
     "name": "stdout",
     "output_type": "stream",
     "text": [
      "2660026700"
     ]
    },
    {
     "name": "stdout",
     "output_type": "stream",
     "text": [
      "2680026900"
     ]
    },
    {
     "name": "stdout",
     "output_type": "stream",
     "text": [
      "2700027100"
     ]
    },
    {
     "name": "stdout",
     "output_type": "stream",
     "text": [
      "2720027300"
     ]
    },
    {
     "name": "stdout",
     "output_type": "stream",
     "text": [
      "27400"
     ]
    },
    {
     "name": "stdout",
     "output_type": "stream",
     "text": [
      "27500"
     ]
    },
    {
     "name": "stdout",
     "output_type": "stream",
     "text": [
      "27600"
     ]
    },
    {
     "name": "stdout",
     "output_type": "stream",
     "text": [
      "27700"
     ]
    },
    {
     "name": "stdout",
     "output_type": "stream",
     "text": [
      "27800"
     ]
    },
    {
     "name": "stdout",
     "output_type": "stream",
     "text": [
      "2790028000"
     ]
    },
    {
     "name": "stdout",
     "output_type": "stream",
     "text": [
      "28100"
     ]
    },
    {
     "name": "stdout",
     "output_type": "stream",
     "text": [
      "2820028300"
     ]
    },
    {
     "name": "stdout",
     "output_type": "stream",
     "text": [
      "2840028500"
     ]
    },
    {
     "name": "stdout",
     "output_type": "stream",
     "text": [
      "28600"
     ]
    },
    {
     "name": "stdout",
     "output_type": "stream",
     "text": [
      "2870028800"
     ]
    },
    {
     "name": "stdout",
     "output_type": "stream",
     "text": [
      "28900"
     ]
    },
    {
     "name": "stdout",
     "output_type": "stream",
     "text": [
      "29000"
     ]
    },
    {
     "name": "stdout",
     "output_type": "stream",
     "text": [
      "29100"
     ]
    },
    {
     "name": "stdout",
     "output_type": "stream",
     "text": [
      "29200"
     ]
    },
    {
     "name": "stdout",
     "output_type": "stream",
     "text": [
      "2930029400"
     ]
    },
    {
     "name": "stdout",
     "output_type": "stream",
     "text": [
      "29500"
     ]
    },
    {
     "name": "stdout",
     "output_type": "stream",
     "text": [
      "29600"
     ]
    },
    {
     "name": "stdout",
     "output_type": "stream",
     "text": [
      "29700"
     ]
    },
    {
     "name": "stdout",
     "output_type": "stream",
     "text": [
      "29800"
     ]
    },
    {
     "name": "stdout",
     "output_type": "stream",
     "text": [
      "299003000030100"
     ]
    },
    {
     "name": "stdout",
     "output_type": "stream",
     "text": [
      "3020030300"
     ]
    },
    {
     "name": "stdout",
     "output_type": "stream",
     "text": [
      "30400"
     ]
    },
    {
     "name": "stdout",
     "output_type": "stream",
     "text": [
      "30500"
     ]
    },
    {
     "name": "stdout",
     "output_type": "stream",
     "text": [
      "3060030700"
     ]
    },
    {
     "name": "stdout",
     "output_type": "stream",
     "text": [
      "30800"
     ]
    },
    {
     "name": "stdout",
     "output_type": "stream",
     "text": [
      "3090031000"
     ]
    },
    {
     "name": "stdout",
     "output_type": "stream",
     "text": [
      "31100"
     ]
    },
    {
     "name": "stdout",
     "output_type": "stream",
     "text": [
      "3120031300"
     ]
    },
    {
     "name": "stdout",
     "output_type": "stream",
     "text": [
      "31400"
     ]
    },
    {
     "name": "stdout",
     "output_type": "stream",
     "text": [
      "3150031600"
     ]
    },
    {
     "name": "stdout",
     "output_type": "stream",
     "text": [
      "317003180031900"
     ]
    },
    {
     "name": "stdout",
     "output_type": "stream",
     "text": [
      "3200032100"
     ]
    },
    {
     "name": "stdout",
     "output_type": "stream",
     "text": [
      "32200"
     ]
    },
    {
     "name": "stdout",
     "output_type": "stream",
     "text": [
      "32300"
     ]
    },
    {
     "name": "stdout",
     "output_type": "stream",
     "text": [
      "32400"
     ]
    },
    {
     "name": "stdout",
     "output_type": "stream",
     "text": [
      "325003260032700"
     ]
    },
    {
     "name": "stdout",
     "output_type": "stream",
     "text": [
      "3280032900"
     ]
    },
    {
     "name": "stdout",
     "output_type": "stream",
     "text": [
      "33000"
     ]
    },
    {
     "name": "stdout",
     "output_type": "stream",
     "text": [
      "33100"
     ]
    },
    {
     "name": "stdout",
     "output_type": "stream",
     "text": [
      "3320033300"
     ]
    },
    {
     "name": "stdout",
     "output_type": "stream",
     "text": [
      "3340033500"
     ]
    },
    {
     "name": "stdout",
     "output_type": "stream",
     "text": [
      "33600"
     ]
    },
    {
     "name": "stdout",
     "output_type": "stream",
     "text": [
      "33700"
     ]
    },
    {
     "name": "stdout",
     "output_type": "stream",
     "text": [
      "33800"
     ]
    },
    {
     "name": "stdout",
     "output_type": "stream",
     "text": [
      "33900"
     ]
    },
    {
     "name": "stdout",
     "output_type": "stream",
     "text": [
      "3400034100"
     ]
    },
    {
     "name": "stdout",
     "output_type": "stream",
     "text": [
      "3420034300"
     ]
    },
    {
     "name": "stdout",
     "output_type": "stream",
     "text": [
      "34400"
     ]
    },
    {
     "name": "stdout",
     "output_type": "stream",
     "text": [
      "3450034600"
     ]
    },
    {
     "name": "stdout",
     "output_type": "stream",
     "text": [
      "3470034800"
     ]
    },
    {
     "name": "stdout",
     "output_type": "stream",
     "text": [
      "34900"
     ]
    },
    {
     "name": "stdout",
     "output_type": "stream",
     "text": [
      "35000"
     ]
    },
    {
     "name": "stdout",
     "output_type": "stream",
     "text": [
      "35100"
     ]
    },
    {
     "name": "stdout",
     "output_type": "stream",
     "text": [
      "35200"
     ]
    },
    {
     "name": "stdout",
     "output_type": "stream",
     "text": [
      "35300"
     ]
    },
    {
     "name": "stdout",
     "output_type": "stream",
     "text": [
      "35400"
     ]
    },
    {
     "name": "stdout",
     "output_type": "stream",
     "text": [
      "35500"
     ]
    },
    {
     "name": "stdout",
     "output_type": "stream",
     "text": [
      "35600"
     ]
    },
    {
     "name": "stdout",
     "output_type": "stream",
     "text": [
      "35700"
     ]
    },
    {
     "name": "stdout",
     "output_type": "stream",
     "text": [
      "35800"
     ]
    },
    {
     "name": "stdout",
     "output_type": "stream",
     "text": [
      "3590036000"
     ]
    },
    {
     "name": "stdout",
     "output_type": "stream",
     "text": [
      "3610036200"
     ]
    },
    {
     "name": "stdout",
     "output_type": "stream",
     "text": [
      "36300"
     ]
    },
    {
     "name": "stdout",
     "output_type": "stream",
     "text": [
      "36400"
     ]
    },
    {
     "name": "stdout",
     "output_type": "stream",
     "text": [
      "36500"
     ]
    },
    {
     "name": "stdout",
     "output_type": "stream",
     "text": [
      "3660036700"
     ]
    },
    {
     "name": "stdout",
     "output_type": "stream",
     "text": [
      "3680036900"
     ]
    },
    {
     "name": "stdout",
     "output_type": "stream",
     "text": [
      "37000"
     ]
    },
    {
     "name": "stdout",
     "output_type": "stream",
     "text": [
      "37100"
     ]
    },
    {
     "name": "stdout",
     "output_type": "stream",
     "text": [
      "3720037300"
     ]
    },
    {
     "name": "stdout",
     "output_type": "stream",
     "text": [
      "37400"
     ]
    },
    {
     "name": "stdout",
     "output_type": "stream",
     "text": [
      "3750037600"
     ]
    },
    {
     "name": "stdout",
     "output_type": "stream",
     "text": [
      "37700"
     ]
    },
    {
     "name": "stdout",
     "output_type": "stream",
     "text": [
      "37800"
     ]
    },
    {
     "name": "stdout",
     "output_type": "stream",
     "text": [
      "37900"
     ]
    },
    {
     "name": "stdout",
     "output_type": "stream",
     "text": [
      "38000"
     ]
    },
    {
     "name": "stdout",
     "output_type": "stream",
     "text": [
      "3810038200"
     ]
    },
    {
     "name": "stdout",
     "output_type": "stream",
     "text": [
      "38300"
     ]
    },
    {
     "name": "stdout",
     "output_type": "stream",
     "text": [
      "38400"
     ]
    },
    {
     "name": "stdout",
     "output_type": "stream",
     "text": [
      "38500"
     ]
    },
    {
     "name": "stdout",
     "output_type": "stream",
     "text": [
      "38600"
     ]
    },
    {
     "name": "stdout",
     "output_type": "stream",
     "text": [
      "38700"
     ]
    },
    {
     "name": "stdout",
     "output_type": "stream",
     "text": [
      "38800"
     ]
    },
    {
     "name": "stdout",
     "output_type": "stream",
     "text": [
      "38900"
     ]
    },
    {
     "name": "stdout",
     "output_type": "stream",
     "text": [
      "39000"
     ]
    },
    {
     "name": "stdout",
     "output_type": "stream",
     "text": [
      "391003920039300"
     ]
    },
    {
     "name": "stdout",
     "output_type": "stream",
     "text": [
      "3940039500"
     ]
    },
    {
     "name": "stdout",
     "output_type": "stream",
     "text": [
      "3960039700"
     ]
    },
    {
     "name": "stdout",
     "output_type": "stream",
     "text": [
      "39800"
     ]
    },
    {
     "name": "stdout",
     "output_type": "stream",
     "text": [
      "39900"
     ]
    },
    {
     "name": "stdout",
     "output_type": "stream",
     "text": [
      "40000"
     ]
    }
   ],
   "source": [
    "n_burnin = 100000\n",
    "n_samples = 40000\n",
    "thin = 2\n",
    "trs = block_resimulation_inference(n_burnin, n_samples, thin);"
   ]
  },
  {
   "cell_type": "code",
   "execution_count": 50,
   "metadata": {},
   "outputs": [
    {
     "data": {
      "text/plain": [
       "create_rating_vector (generic function with 1 method)"
      ]
     },
     "metadata": {},
     "output_type": "display_data"
    }
   ],
   "source": [
    "function create_rating_vector(one_trace,num_users,num_items,k)\n",
    "    X_preference = Vector[] \n",
    "    for u = 1:num_users\n",
    "        preference = Float64[]\n",
    "        for _k = 1:k  \n",
    "            push!(preference,one_trace[(:preference,u,_k)])\n",
    "        end\n",
    "\n",
    "        push!(X_preference,preference)\n",
    "    end\n",
    "\n",
    "    X_sample_attribute = Vector[] \n",
    "    for i = 1:num_items\n",
    "        attribute = Float64[]\n",
    "        for _k = 1:k \n",
    "            push!(attribute,one_trace[(:attribute, i, _k)])\n",
    "        end\n",
    "        push!(X_sample_attribute, attribute)\n",
    "    end\n",
    "    y = Matrix{Float64}(undef,0,num_items)\n",
    "    for u = 1:num_users\n",
    "        rating = Float64[]\n",
    "        for i = 1:num_items\n",
    "            push!(rating,poisson(dot(X_preference[u],X_sample_attribute[i])))\n",
    "        end\n",
    "        y = vcat(y, rating')\n",
    "    end\n",
    "     \n",
    "    y\n",
    "\n",
    "end\n",
    "\n"
   ]
  },
  {
   "attachments": {},
   "cell_type": "markdown",
   "metadata": {},
   "source": [
    "Compute matrix of rating for each trace "
   ]
  },
  {
   "cell_type": "code",
   "execution_count": 51,
   "metadata": {},
   "outputs": [
    {
     "data": {
      "text/plain": [
       "10×10 Matrix{Float64}:\n",
       " 5.0e-5  0.03755   0.286125  0.04735   …  0.0236    0.0148    0.162075\n",
       " 2.5e-5  0.10555   0.085225  0.1516       0.647425  0.038325  0.602075\n",
       " 0.0     0.010475  0.03625   0.025075     0.032775  0.005125  0.02295\n",
       " 0.0     0.00015   0.000875  0.005675     0.000675  5.0e-5    0.0012\n",
       " 0.0     0.000175  0.000675  0.0001       5.0e-5    0.000125  0.003275\n",
       " 0.0     0.11015   0.358525  0.028825  …  0.264375  0.0856    1.37005\n",
       " 0.0     0.0       0.0       0.0          0.0       0.0       0.0\n",
       " 0.0     7.5e-5    0.00015   7.5e-5       2.5e-5    0.0       5.0e-5\n",
       " 0.0     0.000775  0.0099    0.007775     0.0039    0.00085   0.00745\n",
       " 0.0     0.0       5.0e-5    2.5e-5       2.5e-5    0.0       0.0"
      ]
     },
     "metadata": {},
     "output_type": "display_data"
    }
   ],
   "source": [
    "final_matrix = zeros(num_users, num_items)\n",
    "for i=1:n_samples\n",
    "    y = create_preference_vector(trs[i],num_users,num_items,k)\n",
    "    final_matrix = final_matrix + y\n",
    "end\n",
    "final_matrix/n_samples\n"
   ]
  },
  {
   "cell_type": "code",
   "execution_count": 52,
   "metadata": {},
   "outputs": [
    {
     "data": {
      "text/plain": [
       "10×10 Matrix{Float64}:\n",
       "  8.0  6.0   8.0  0.0   4.0   6.0   6.0   6.0   0.0  6.0\n",
       "  0.0  8.0  10.0  6.0  10.0   8.0   8.0   6.0   0.0  6.0\n",
       "  0.0  6.0  10.0  0.0   6.0   6.0   8.0   6.0   0.0  8.0\n",
       "  5.0  5.0   4.0  0.0   4.0   8.0   4.0   0.0   0.0  9.0\n",
       "  8.0  6.0   6.0  0.0   6.0   6.0   6.0   0.0   0.0  6.0\n",
       "  6.0  5.0   3.0  0.0   0.0   9.0   5.0   0.0   3.0  7.0\n",
       " 10.0  0.0   6.0  0.0   6.0   6.0   6.0   0.0   6.0  0.0\n",
       " 10.0  8.0   0.0  0.0   6.0   8.0   0.0   0.0   6.0  6.0\n",
       " 10.0  0.0  10.0  0.0  10.0   0.0  10.0  10.0   0.0  8.0\n",
       "  8.0  0.0   8.0  0.0   8.0  10.0   6.0   0.0  10.0  0.0"
      ]
     },
     "metadata": {},
     "output_type": "display_data"
    }
   ],
   "source": [
    "xs"
   ]
  }
 ],
 "metadata": {
  "kernelspec": {
   "display_name": "Julia 1.8.2",
   "language": "julia",
   "name": "julia-1.8"
  },
  "language_info": {
   "file_extension": ".jl",
   "mimetype": "application/julia",
   "name": "julia",
   "version": "1.8.2"
  },
  "orig_nbformat": 4
 },
 "nbformat": 4,
 "nbformat_minor": 2
}
